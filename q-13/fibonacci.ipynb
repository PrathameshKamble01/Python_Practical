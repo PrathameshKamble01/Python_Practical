{
 "cells": [
  {
   "cell_type": "markdown",
   "metadata": {},
   "source": [
    "Q-13\n",
    "\n",
    "Title:\n",
    "Fibonacci Sequence Display\n",
    "\n",
    "Prerequisites:\n",
    "Basic understanding of Python programming, loops, and functions.\n",
    "\n",
    "Objectives:\n",
    "To create a Python function that displays Fibonacci sequence up to the nth term specified by the user.\n",
    "\n",
    "Algorithm:\n",
    "\n",
    "1. Define a function named display_fibonacci that takes one parameter n.\n",
    "2. Initialize two variables a and b to 0 and 1 respectively.\n",
    "3. Print the first two terms of the Fibonacci sequence: 0 and 1.\n",
    "4. Using a loop, iterate n-2 times (since we've already printed two terms).\n",
    "5. Within the loop, calculate the next term of the sequence by adding the previous two terms (a and b).\n",
    "6. Update a and b with the last two terms.\n",
    "7. Print the calculated term.\n",
    "8. Repeat steps 5-7 until the loop completes.\n"
   ]
  },
  {
   "cell_type": "code",
   "execution_count": 2,
   "metadata": {},
   "outputs": [
    {
     "name": "stdout",
     "output_type": "stream",
     "text": [
      "Fibonacci sequence up to 13 :\n",
      "0 1 1 2 3 5 8 13 21 34 55 89 144 "
     ]
    }
   ],
   "source": [
    "def print_fibonacci(n):\n",
    "    a,b = 0,1\n",
    "    if n <= 0:\n",
    "        print(\"Please enter a positive integer.\")\n",
    "    elif n == 1:\n",
    "        print(\"Fibonacci sequence up to\", n, \":\")\n",
    "        print(a)\n",
    "    else:\n",
    "        print(\"Fibonacci sequence up to\", n, \":\")\n",
    "        print(a, end=\" \")\n",
    "        print(b, end=\" \")\n",
    "        for i in range (2, n):\n",
    "            fib = a+b\n",
    "            print(fib, end=\" \")\n",
    "            a,b = b, fib\n",
    "\n",
    "n = int ( input(\"Enter a Limit: \") )\n",
    "print_fibonacci(n)\n"
   ]
  }
 ],
 "metadata": {
  "kernelspec": {
   "display_name": "Python 3",
   "language": "python",
   "name": "python3"
  },
  "language_info": {
   "codemirror_mode": {
    "name": "ipython",
    "version": 3
   },
   "file_extension": ".py",
   "mimetype": "text/x-python",
   "name": "python",
   "nbconvert_exporter": "python",
   "pygments_lexer": "ipython3",
   "version": "3.12.1"
  }
 },
 "nbformat": 4,
 "nbformat_minor": 2
}
