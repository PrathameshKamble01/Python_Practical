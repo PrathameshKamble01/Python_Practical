{
 "cells": [
  {
   "cell_type": "markdown",
   "metadata": {},
   "source": [
    "Q-17\n",
    "\n",
    "Title:\n",
    "Counting Vowels, Consonants, and Blanks in a String\n",
    "\n",
    "Prerequisites:\n",
    "Basic knowledge of Python programming, including string manipulation and functions.\n",
    "\n",
    "Objectives:\n",
    "To create a Python function that counts the total number of vowels, consonants, and blanks in a given string.\n",
    "\n",
    "Algorithm:\n",
    "\n",
    "1. Define a function count_chars that takes a string as input.\n",
    "2. Initialize counters for vowels, consonants, and blanks.\n",
    "3. Iterate through each character in the string.\n",
    "4. Check if the character is a vowel (using a set of vowels) or a blank space. Increment the respective counters accordingly.\n",
    "5. If the character is not a vowel or a blank space, increment the consonant counter.\n",
    "6. Return the counts of vowels, consonants, and blanks."
   ]
  },
  {
   "cell_type": "code",
   "execution_count": 3,
   "metadata": {},
   "outputs": [
    {
     "name": "stdout",
     "output_type": "stream",
     "text": [
      "Entered String is:  prathamesh is doing mca\n",
      "Number of vowels: 7\n",
      "Number of consonants: 13\n",
      "Number of blanks: 3\n"
     ]
    }
   ],
   "source": [
    "def count_chars(string):\n",
    "    # Define vowels\n",
    "    vowels = {'a', 'e', 'i', 'o', 'u', 'A', 'E', 'I', 'O', 'U'}\n",
    "    \n",
    "    # Initialize counters\n",
    "    vowel_count = 0\n",
    "    consonant_count = 0\n",
    "    blank_count = 0\n",
    "    \n",
    "    # Iterate through each character in the string\n",
    "    for char in string:\n",
    "        if char in vowels:\n",
    "            vowel_count += 1\n",
    "        elif char == ' ':\n",
    "            blank_count += 1\n",
    "        else:\n",
    "            consonant_count += 1\n",
    "    \n",
    "    # Return counts\n",
    "    return vowel_count, consonant_count, blank_count\n",
    "\n",
    "# Example usage:\n",
    "input_string = input(\"Enter a string: \")\n",
    "print(\"Entered String is: \",input_string)\n",
    "vowels, consonants, blanks = count_chars(input_string)\n",
    "print(\"Number of vowels:\", vowels)\n",
    "print(\"Number of consonants:\", consonants)\n",
    "print(\"Number of blanks:\", blanks)\n"
   ]
  }
 ],
 "metadata": {
  "kernelspec": {
   "display_name": "Python 3",
   "language": "python",
   "name": "python3"
  },
  "language_info": {
   "codemirror_mode": {
    "name": "ipython",
    "version": 3
   },
   "file_extension": ".py",
   "mimetype": "text/x-python",
   "name": "python",
   "nbconvert_exporter": "python",
   "pygments_lexer": "ipython3",
   "version": "3.12.1"
  }
 },
 "nbformat": 4,
 "nbformat_minor": 2
}
