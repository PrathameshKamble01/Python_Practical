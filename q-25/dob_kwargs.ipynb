{
 "cells": [
  {
   "cell_type": "markdown",
   "metadata": {},
   "source": [
    "Title:\n",
    "Age Calculation Program\n",
    "\n",
    "Prerequisites:\n",
    "- Basic knowledge of Python programming.\n",
    "- Familiarity with datetime module in Python.\n",
    "\n",
    "Objectives:\n",
    "- To calculate and print the age of a person based on their date of birth.\n",
    "\n",
    "Algorithm:\n",
    "1. Import the datetime module.\n",
    "2. Define a function `calculate_age` that takes **kwargs as input.\n",
    "3. Extract the 'year', 'month', and 'day' from the kwargs.\n",
    "4. Get the current date using datetime.datetime.now() function.\n",
    "5. Calculate the age by subtracting the birth date from the current date.\n",
    "6. Print the age.\n",
    "\n",
    "\n"
   ]
  },
  {
   "cell_type": "code",
   "execution_count": 2,
   "metadata": {},
   "outputs": [
    {
     "name": "stdout",
     "output_type": "stream",
     "text": [
      "Age: 22\n"
     ]
    }
   ],
   "source": [
    "import datetime\n",
    "\n",
    "def calculate_age(**kwargs):\n",
    "    # Extracting year, month, and day from kwargs\n",
    "    year = kwargs.get('year', 0)\n",
    "    month = kwargs.get('month', 1)\n",
    "    day = kwargs.get('day', 1)\n",
    "\n",
    "    # Getting current date\n",
    "    current_date = datetime.datetime.now()\n",
    "\n",
    "    # Creating a datetime object for the birth date\n",
    "    birth_date = datetime.datetime(year, month, day)\n",
    "\n",
    "    # Calculating age\n",
    "    age = current_date.year - birth_date.year - ((current_date.month, current_date.day) < (birth_date.month, birth_date.day))\n",
    "\n",
    "    # Printing the age\n",
    "    print(\"Age:\", age)\n",
    "\n",
    "# Example usage\n",
    "calculate_age(year=2001, month=5, day=30)\n"
   ]
  }
 ],
 "metadata": {
  "kernelspec": {
   "display_name": "Python 3",
   "language": "python",
   "name": "python3"
  },
  "language_info": {
   "codemirror_mode": {
    "name": "ipython",
    "version": 3
   },
   "file_extension": ".py",
   "mimetype": "text/x-python",
   "name": "python",
   "nbconvert_exporter": "python",
   "pygments_lexer": "ipython3",
   "version": "3.12.1"
  }
 },
 "nbformat": 4,
 "nbformat_minor": 2
}
