{
 "cells": [
  {
   "cell_type": "markdown",
   "metadata": {},
   "source": [
    "Title:\n",
    "Random Account Number Generator\n",
    "\n",
    "Prerequisites:\n",
    "- Basic understanding of programming concepts\n",
    "- Knowledge of how to use random number generators\n",
    "\n",
    "Objectives:\n",
    "- Generate unique account numbers within a given range using a random number generator.\n",
    "- Ensure that the generated account numbers are unique.\n",
    "\n",
    "Algorithm:\n",
    "1. Define the range of account numbers (minimum and maximum values).\n",
    "2. Generate a random number within the specified range.\n",
    "3. Check if the generated number is unique.\n",
    "4. If the number is not unique, regenerate another random number until a unique one is found.\n",
    "5. Output the generated unique account number."
   ]
  },
  {
   "cell_type": "code",
   "execution_count": 10,
   "metadata": {},
   "outputs": [
    {
     "name": "stdout",
     "output_type": "stream",
     "text": [
      "Generated Account Number: 9789\n"
     ]
    }
   ],
   "source": [
    "import random\n",
    "\n",
    "def generate_account_number(minimum, maximum):\n",
    "    # Create an empty set to store generated account numbers\n",
    "    generated_numbers = set()\n",
    "\n",
    "    while True:\n",
    "        # Generate a random account number within the specified range\n",
    "        account_number = random.randint(minimum, maximum)\n",
    "\n",
    "        # Check if the generated number is unique\n",
    "        if account_number not in generated_numbers:\n",
    "            # If unique, add it to the set of generated numbers and return\n",
    "            generated_numbers.add(account_number)\n",
    "            return account_number\n",
    "\n",
    "# Define the range of account numbers\n",
    "min_account_number = 1000\n",
    "max_account_number = 9999\n",
    "\n",
    "# Generate and print a unique account number\n",
    "print(\"Generated Account Number:\", generate_account_number(min_account_number, max_account_number))"
   ]
  }
 ],
 "metadata": {
  "kernelspec": {
   "display_name": "Python 3",
   "language": "python",
   "name": "python3"
  },
  "language_info": {
   "codemirror_mode": {
    "name": "ipython",
    "version": 3
   },
   "file_extension": ".py",
   "mimetype": "text/x-python",
   "name": "python",
   "nbconvert_exporter": "python",
   "pygments_lexer": "ipython3",
   "version": "3.12.1"
  }
 },
 "nbformat": 4,
 "nbformat_minor": 2
}
