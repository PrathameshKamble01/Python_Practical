{
 "cells": [
  {
   "cell_type": "markdown",
   "metadata": {},
   "source": [
    "Title:\n",
    "Filtering Multiples of 10 in a List\n",
    "\n",
    "Prerequisites:\n",
    "Basic knowledge of Python programming, including list manipulation and loops.\n",
    "\n",
    "Objectives:\n",
    "1. Filter out multiples of 10 from a given list.\n",
    "2. Return a new list containing only the multiples of 10.\n",
    "\n",
    "Algorithm:\n",
    "1. Create an empty list to store the filtered multiples of 10.\n",
    "2. Iterate through each element in the given list.\n",
    "3. Check if the element is divisible by 10 using the modulo operator (%).\n",
    "4. If the element is divisible by 10, add it to the new list.\n",
    "5. Return the new list containing the filtered multiples of 10.\n"
   ]
  },
  {
   "cell_type": "code",
   "execution_count": 1,
   "metadata": {},
   "outputs": [
    {
     "name": "stdout",
     "output_type": "stream",
     "text": [
      "Given list: [10, 20, 25, 30, 35, 40, 45, 50]\n",
      "Filtered list: [10, 20, 30, 40, 50]\n"
     ]
    }
   ],
   "source": [
    "def filter_multiples_of_10(input_list):\n",
    "    # Create an empty list to store filtered multiples of 10\n",
    "    multiples_of_10 = []\n",
    "\n",
    "    # Iterate through each element in the given list\n",
    "    for num in input_list:\n",
    "        # Check if the element is divisible by 10\n",
    "        if num % 10 == 0:\n",
    "            # If divisible by 10, add it to the multiples_of_10 list\n",
    "            multiples_of_10.append(num)\n",
    "\n",
    "    # Return the list of multiples of 10\n",
    "    return multiples_of_10\n",
    "\n",
    "# Test the function\n",
    "given_list = [10, 20, 25, 30, 35, 40, 45, 50]\n",
    "print(\"Given list:\", given_list)\n",
    "filtered_list = filter_multiples_of_10(given_list)\n",
    "print(\"Filtered list:\", filtered_list)"
   ]
  }
 ],
 "metadata": {
  "kernelspec": {
   "display_name": "Python 3",
   "language": "python",
   "name": "python3"
  },
  "language_info": {
   "codemirror_mode": {
    "name": "ipython",
    "version": 3
   },
   "file_extension": ".py",
   "mimetype": "text/x-python",
   "name": "python",
   "nbconvert_exporter": "python",
   "pygments_lexer": "ipython3",
   "version": "3.12.1"
  }
 },
 "nbformat": 4,
 "nbformat_minor": 2
}
