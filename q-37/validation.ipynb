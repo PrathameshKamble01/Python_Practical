{
 "cells": [
  {
   "cell_type": "markdown",
   "metadata": {},
   "source": [
    "Title: Data Parsing and Validation Toolkit\n",
    "\n",
    "Prerequisites: Basic understanding of programming concepts, familiarity with regular expressions.\n",
    "\n",
    "Objectives: To parse and validate various types of data including passwords, emails, URLs, etc. To implement pattern finding algorithms for data processing.\n",
    "\n",
    "Algorithm:\n",
    "1. Password Validation:\n",
    "   - Check if the password meets the required length criteria.\n",
    "   - Ensure the presence of at least one uppercase letter, one lowercase letter, one digit, and one special character.\n",
    "   - Use regular expressions for pattern matching.\n",
    "\n",
    "2. Email Validation:\n",
    "   - Utilize regular expressions to verify if the email follows the standard format.\n",
    "   - Check for the presence of '@' symbol and valid domain.\n",
    "\n",
    "3. URL Validation:\n",
    "   - Validate the URL format using regular expressions.\n",
    "   - Verify if the URL scheme is valid (e.g., http, https).\n",
    "\n",
    "4. Pattern Finding:\n",
    "   - Implement algorithms like Knuth-Morris-Pratt (KMP) or Boyer-Moore for efficient pattern searching.\n",
    "   - Use the chosen algorithm to find patterns within the given data."
   ]
  },
  {
   "cell_type": "code",
   "execution_count": 1,
   "metadata": {},
   "outputs": [
    {
     "name": "stdout",
     "output_type": "stream",
     "text": [
      "Password is valid: True\n",
      "Email is valid: True\n",
      "URL is valid: True\n",
      "Pattern found: ['sample']\n"
     ]
    }
   ],
   "source": [
    "import re\n",
    "\n",
    "def validate_password(password):\n",
    "    # Check length\n",
    "    if len(password) < 8:\n",
    "        return False\n",
    "    # Check for at least one uppercase letter, one lowercase letter, one digit, and one special character\n",
    "    if not re.search(r'[A-Z]', password) or not re.search(r'[a-z]', password) or \\\n",
    "            not re.search(r'\\d', password) or not re.search(r'[!@#$%^&*]', password):\n",
    "        return False\n",
    "    return True\n",
    "\n",
    "def validate_email(email):\n",
    "    # Email regex pattern\n",
    "    pattern = r'^[a-zA-Z0-9._%+-]+@[a-zA-Z0-9.-]+\\.[a-zA-Z]{2,}$'\n",
    "    return bool(re.match(pattern, email))\n",
    "\n",
    "def validate_url(url):\n",
    "    # URL regex pattern\n",
    "    pattern = r'^(http|https)://[^\\s/$.?#].[^\\s]*$'\n",
    "    return bool(re.match(pattern, url))\n",
    "\n",
    "def find_pattern(data, pattern):\n",
    "    # Use built-in findall method of regular expressions\n",
    "    return re.findall(pattern, data)\n",
    "\n",
    "# Example usage\n",
    "password = \"StrongPassword@123\"\n",
    "email = \"example@email.com\"\n",
    "url = \"https://www.example.com\"\n",
    "data = \"This is a sample string for pattern matching.\"\n",
    "pattern = \"sample\"\n",
    "\n",
    "print(\"Password is valid:\", validate_password(password))\n",
    "print(\"Email is valid:\", validate_email(email))\n",
    "print(\"URL is valid:\", validate_url(url))\n",
    "print(\"Pattern found:\", find_pattern(data, pattern))"
   ]
  }
 ],
 "metadata": {
  "kernelspec": {
   "display_name": "Python 3",
   "language": "python",
   "name": "python3"
  },
  "language_info": {
   "codemirror_mode": {
    "name": "ipython",
    "version": 3
   },
   "file_extension": ".py",
   "mimetype": "text/x-python",
   "name": "python",
   "nbconvert_exporter": "python",
   "pygments_lexer": "ipython3",
   "version": "3.12.1"
  }
 },
 "nbformat": 4,
 "nbformat_minor": 2
}
