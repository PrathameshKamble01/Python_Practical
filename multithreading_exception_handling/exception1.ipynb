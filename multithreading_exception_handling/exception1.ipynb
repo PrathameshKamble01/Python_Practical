{
 "cells": [
  {
   "cell_type": "code",
   "execution_count": null,
   "metadata": {},
   "outputs": [],
   "source": [
    "def division_by_zero():\n",
    "    try:\n",
    "        print(10/0)\n",
    "    except ZeroDivisionError:\n",
    "        print('Divided by zero')\n",
    "\n",
    "if __name__ == '__main__':\n",
    "    division_by_zero()"
   ]
  },
  {
   "cell_type": "code",
   "execution_count": null,
   "metadata": {},
   "outputs": [],
   "source": [
    "def division_by_zero():\n",
    "    try:\n",
    "        print(\"Hello world\")\n",
    "    except ZeroDivisionError:\n",
    "        print('Divided by zero')\n",
    "    else:\n",
    "        print(\"invalid exception handling\")\n",
    "\n",
    "\n",
    "if __name__ == '__main__':\n",
    "    division_by_zero()"
   ]
  },
  {
   "cell_type": "markdown",
   "metadata": {},
   "source": [
    "One try multiple except"
   ]
  },
  {
   "cell_type": "code",
   "execution_count": null,
   "metadata": {},
   "outputs": [],
   "source": [
    "def division_by_zero():\n",
    "    try:\n",
    "        x = 10/0\n",
    "        lst = [1,2,3]\n",
    "        print(lst[5])\n",
    "        value = int(\"ABC\")\n",
    "        print(value)\n",
    "        file = open(\"nonexistent_file.txt\", \"r\")\n",
    "\n",
    "    except ZeroDivisionError:\n",
    "        print(\"Error: cannot divide by zero\")\n",
    "    except IndexError:\n",
    "        print(\"Error: Index out of range\")\n",
    "    except ValueError:\n",
    "        print(\"Error: Invalid conversion to integer\")\n",
    "    except IOError:\n",
    "        print(\"Error: File could not be found or opened\")\n",
    "    finally:\n",
    "        print(\"Finally block executed\")\n",
    "\n",
    "    print(\"End of the program\")\n",
    "\n",
    "if __name__ == '__main__':\n",
    "    division_by_zero()"
   ]
  },
  {
   "cell_type": "markdown",
   "metadata": {},
   "source": [
    "Multiple Exception"
   ]
  },
  {
   "cell_type": "code",
   "execution_count": null,
   "metadata": {},
   "outputs": [],
   "source": [
    "def divide_numbers(a, b):\n",
    "    if b == 0:\n",
    "        raise RuntimeError(\"Error: Cannot divide by zero.\")\n",
    "    else:\n",
    "        return a / b\n",
    "    \n",
    "def process_data(data):\n",
    "    if data == \"\":\n",
    "        raise NotImplementedError(\"Error: Function not implemented for empty data.\")\n",
    "    else:\n",
    "        print(\"Processing data:\", data)\n",
    "\n",
    "def access_variable():\n",
    "    try:\n",
    "        print(x)  # Accessing an uninitialized local variable\n",
    "    except NameError:\n",
    "        print(\"Error: Variable x is not defined.\")\n",
    "    try:\n",
    "        result = divide_numbers(10, 0)\n",
    "        print(\"Result:\", result)\n",
    "    except RuntimeError as e:\n",
    "        print(e)\n",
    "\n",
    "    try:\n",
    "        process_data(\"sashi\")\n",
    "    except NotImplementedError as e:\n",
    "        print(e)\n",
    "\n",
    "    try:\n",
    "        access_variable(3)\n",
    "    except UnboundLocalError as e:\n",
    "        print(e)\n",
    "\n",
    "if __name__ == \"__main__\":\n",
    "    divide_numbers(4,5)\n",
    "    process_data()\n",
    "    access_variable()"
   ]
  },
  {
   "cell_type": "markdown",
   "metadata": {},
   "source": [
    "ERROR CODES\n",
    "1. 500- internal service error\n",
    "2. 300- multiple choices\n",
    "3. 301- moved permanently\n",
    "4. 204- no content\n",
    "5. 200- ok\n",
    "6. 205- reset content\n",
    "7. 100- continue\n"
   ]
  },
  {
   "cell_type": "markdown",
   "metadata": {},
   "source": [
    "MULTIPLE THREADS RUN CONCURRENTLY\n",
    "THREADS ARE LIGHTWEIGHT UNITS OF EXECUTION THAT CAN PERFORM TASKS INDEPENDANTLY\n"
   ]
  },
  {
   "cell_type": "markdown",
   "metadata": {},
   "source": [
    "Thread class methods\n",
    "-----------------------\n",
    "\n",
    "1. start()- to initiate the activity of a thread. it calls only once for each thread so that the execution of the thread can begin\n",
    "2. run() - to define a thread's activity and can be overridden by a class that extends the threads class\n",
    "3. join() - is used to block the execution of another code until the thread terminates.\n",
    "\n",
    "example--->"
   ]
  },
  {
   "cell_type": "code",
   "execution_count": 25,
   "metadata": {},
   "outputs": [
    {
     "name": "stdout",
     "output_type": "stream",
     "text": [
      "hello, how old are you 18\n",
      "hello, how old are you 18\n",
      "hello, how old are you 18\n",
      "hello, how old are you 18\n",
      "hello, how old are you 18\n"
     ]
    },
    {
     "ename": "TypeError",
     "evalue": "print_hello() missing 1 required positional argument: 'n'",
     "output_type": "error",
     "traceback": [
      "\u001b[1;31m---------------------------------------------------------------------------\u001b[0m",
      "\u001b[1;31mTypeError\u001b[0m                                 Traceback (most recent call last)",
      "Cell \u001b[1;32mIn[25], line 7\u001b[0m\n\u001b[0;32m      4\u001b[0m t1 \u001b[38;5;241m=\u001b[39m threading\u001b[38;5;241m.\u001b[39mThread(target\u001b[38;5;241m=\u001b[39mprint_hello, args\u001b[38;5;241m=\u001b[39m(\u001b[38;5;241m18\u001b[39m,))\n\u001b[0;32m      5\u001b[0m t1\u001b[38;5;241m.\u001b[39mstart()\n\u001b[1;32m----> 7\u001b[0m \u001b[43mprint_hello\u001b[49m\u001b[43m(\u001b[49m\u001b[43m)\u001b[49m\n",
      "\u001b[1;31mTypeError\u001b[0m: print_hello() missing 1 required positional argument: 'n'"
     ]
    },
    {
     "name": "stdout",
     "output_type": "stream",
     "text": [
      "hello, how old are you 18\n",
      "hello, how old are you 18\n",
      "hello, how old are you 18\n"
     ]
    }
   ],
   "source": [
    "import threading\n",
    "def print_hello(n):\n",
    "    print(\"hello, how old are you\", n)\n",
    "t1 = threading.Thread(target=print_hello, args=(18,))\n",
    "t1.start()\n",
    "\n",
    "print_hello()"
   ]
  }
 ],
 "metadata": {
  "kernelspec": {
   "display_name": "Python 3",
   "language": "python",
   "name": "python3"
  },
  "language_info": {
   "codemirror_mode": {
    "name": "ipython",
    "version": 3
   },
   "file_extension": ".py",
   "mimetype": "text/x-python",
   "name": "python",
   "nbconvert_exporter": "python",
   "pygments_lexer": "ipython3",
   "version": "3.12.1"
  }
 },
 "nbformat": 4,
 "nbformat_minor": 2
}
