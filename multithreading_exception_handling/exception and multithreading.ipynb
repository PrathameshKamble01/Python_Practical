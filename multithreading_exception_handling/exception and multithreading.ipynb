{
 "cells": [
  {
   "cell_type": "code",
   "execution_count": 3,
   "id": "ba5dc7f8",
   "metadata": {},
   "outputs": [
    {
     "name": "stdout",
     "output_type": "stream",
     "text": [
      "3.5\n"
     ]
    }
   ],
   "source": [
    "def division_by_zero():\n",
    "  try:\n",
    "    print(10.5 / 3)\n",
    "  except ZeroDivisionError:\n",
    "    print(\"Division by zero error\")\n",
    "\n",
    "if __name__ == \"__main__\":\n",
    "  division_by_zero()"
   ]
  },
  {
   "cell_type": "code",
   "execution_count": 6,
   "id": "49729c56",
   "metadata": {},
   "outputs": [
    {
     "name": "stdout",
     "output_type": "stream",
     "text": [
      "Written content in the file successfully\n"
     ]
    }
   ],
   "source": [
    "try:\n",
    "\n",
    "   fh = open(\"testfile\", \"w\")\n",
    "\n",
    "   fh.write(\"This is my test file for exception handling!!\")\n",
    "\n",
    "except IOError:\n",
    "\n",
    "   print(\"Error: can\\'t find file or read data\")\n",
    "\n",
    "else:\n",
    "\n",
    "   print(\"Written content in the file successfully\")\n",
    "\n",
    "   fh.close()"
   ]
  },
  {
   "cell_type": "code",
   "execution_count": 7,
   "id": "da2db582",
   "metadata": {},
   "outputs": [
    {
     "name": "stdout",
     "output_type": "stream",
     "text": [
      "[Errno 2] No such file or directory: 'file_that_does_not_exist.txt'\n"
     ]
    }
   ],
   "source": [
    "def open_file():\n",
    "  try:\n",
    "    file = open(\"file_that_does_not_exist.txt\", \"r\")\n",
    "  except EnvironmentError as e:\n",
    "    print(e)\n",
    "\n",
    "if __name__ == \"__main__\":\n",
    "  open_file()"
   ]
  },
  {
   "cell_type": "code",
   "execution_count": 9,
   "id": "600e60c3",
   "metadata": {},
   "outputs": [
    {
     "name": "stdout",
     "output_type": "stream",
     "text": [
      "Division by zero error\n"
     ]
    }
   ],
   "source": [
    "def division_by_zero():\n",
    "  try:\n",
    "    print(10 / \"po\")\n",
    "  except ZeroDivisionError:\n",
    "    print(\"Division by zero error\")\n",
    "  except TypeError:\n",
    "    print(\"Type error\")\n",
    "  except Exception as e:\n",
    "    print(e)\n",
    "\n",
    "if __name__ == \"__main__\":\n",
    "  division_by_zero()"
   ]
  },
  {
   "cell_type": "code",
   "execution_count": 16,
   "id": "fe062245",
   "metadata": {},
   "outputs": [
    {
     "name": "stdout",
     "output_type": "stream",
     "text": [
      "Error: Invalid conversion to integer.\n",
      "Finally block executed.\n",
      "Program continues after exception handling.\n"
     ]
    }
   ],
   "source": [
    "try:\n",
    "    # Perform some operations that may raise exceptions\n",
    "    value = int(\"abc\")  # ValueError   \n",
    "    x = 10 / 0  # ZeroDivisionError\n",
    "    lst = [1, 2, 3]\n",
    "    print(lst[5])  # IndexError\n",
    "    \n",
    "    file = open(\"nonexistent_file.txt\", \"r\")  # IOError\n",
    "\n",
    "except IndexError:\n",
    "    print(\"Error: Index out of range.\")\n",
    "except ZeroDivisionError:\n",
    "   print(\"Error: Cannot divide by zero.\")\n",
    "except ValueError:\n",
    "    print(\"Error: Invalid conversion to integer.\")\n",
    "except IOError:\n",
    "    print(\"Error: File could not be found or opened.\")\n",
    "finally:\n",
    "    print(\"Finally block executed.\")\n",
    "\n",
    "print(\"Program continues after exception handling.\")\n"
   ]
  },
  {
   "cell_type": "code",
   "execution_count": 17,
   "id": "c5f0ab5a",
   "metadata": {},
   "outputs": [
    {
     "name": "stdout",
     "output_type": "stream",
     "text": [
      "Error: Cannot divide by zero.\n",
      "Error: Function not implemented for empty data.\n",
      "Error: Variable x is not defined.\n"
     ]
    }
   ],
   "source": [
    "def divide_numbers(a, b):\n",
    "    if b == 0:\n",
    "        raise RuntimeError(\"Error: Cannot divide by zero.\")\n",
    "    else:\n",
    "        return a / b\n",
    "\n",
    "def process_data(data):\n",
    "    if data == \"\":\n",
    "        raise NotImplementedError(\"Error: Function not implemented for empty data.\")\n",
    "    else:\n",
    "        print(\"Processing data:\", data)\n",
    "\n",
    "\n",
    "def access_variable():\n",
    "    try:\n",
    "        print(x)  # Accessing an uninitialized local variable\n",
    "    except NameError:\n",
    "        print(\"Error: Variable x is not defined.\")\n",
    "\n",
    "\n",
    "try:\n",
    "    result = divide_numbers(10, 0)\n",
    "    print(\"Result:\", result)\n",
    "except RuntimeError as e:\n",
    "    print(e)\n",
    "\n",
    "try:\n",
    "    process_data(\"\")\n",
    "except NotImplementedError as e:\n",
    "    print(e)\n",
    "\n",
    "try:\n",
    "    access_variable()\n",
    "except UnboundLocalError as e:\n",
    "    print(e)\n"
   ]
  },
  {
   "cell_type": "code",
   "execution_count": 18,
   "id": "0e2c0df0",
   "metadata": {},
   "outputs": [
    {
     "name": "stdout",
     "output_type": "stream",
     "text": [
      "Error 404: Page not found.\n"
     ]
    }
   ],
   "source": [
    "class CustomException(Exception):\n",
    "    def __init__(self, error_code):\n",
    "        self.error_code = error_code\n",
    "\n",
    "try:\n",
    "    # Simulating an error condition\n",
    "    error_code = 404  # Assume this is the error code received\n",
    "    raise CustomException(error_code)\n",
    "except CustomException as e:\n",
    "    if e.error_code == 404:\n",
    "        print(\"Error 404: Page not found.\")\n",
    "    elif e.error_code == 500:\n",
    "        print(\"Error 500: Internal server error.\")\n",
    "    else:\n",
    "        print(\"Unknown error occurred with code:\", e.error_code)\n"
   ]
  },
  {
   "cell_type": "code",
   "execution_count": 26,
   "id": "127f0868",
   "metadata": {},
   "outputs": [
    {
     "name": "stdout",
     "output_type": "stream",
     "text": [
      "Hello, how old are you  18\n"
     ]
    }
   ],
   "source": [
    "import threading\n",
    "def print_hello(n):\n",
    "    print(\"Hello, how old are you \",n)\n",
    "t1=threading.Thread(target=print_hello,args=(18, ))\n",
    "t1.start()"
   ]
  },
  {
   "cell_type": "code",
   "execution_count": 28,
   "id": "ee0fcc83",
   "metadata": {},
   "outputs": [
    {
     "name": "stdout",
     "output_type": "stream",
     "text": [
      "Hello, how old are you  18\n",
      "Thanks\n"
     ]
    }
   ],
   "source": [
    "import threading\n",
    "def print_hello(n):\n",
    "    print(\"Hello, how old are you \",n)\n",
    "t1=threading.Thread(target=print_hello,args=(18, ))\n",
    "t1.start()\n",
    "t1.join()\n",
    "print(\"Thanks\")"
   ]
  },
  {
   "cell_type": "code",
   "execution_count": 13,
   "id": "1a16c17d",
   "metadata": {},
   "outputs": [
    {
     "name": "stdout",
     "output_type": "stream",
     "text": [
      "Thread 1: 1\n",
      "Thread 1: 2\n",
      "Thread 1: 3\n",
      "Thread 1: 4\n",
      "Thread 1: 5\n",
      "Thread 2: A\n",
      "Thread 2: B\n",
      "Thread 2: C\n",
      "Thread 2: D\n",
      "Thread 2: E\n",
      "Program execution completed.\n"
     ]
    }
   ],
   "source": [
    "import threading\n",
    "\n",
    "def print_numbers():\n",
    "    for i in range(1, 6):\n",
    "        print(\"Thread 1:\", i)\n",
    "\n",
    "def print_letters():\n",
    "    for letter in ['A', 'B', 'C', 'D', 'E']:\n",
    "        print(\"Thread 2:\", letter)\n",
    "\n",
    "# Create thread objects\n",
    "thread1 = threading.Thread(target=print_numbers)\n",
    "thread2 = threading.Thread(target=print_letters)\n",
    "\n",
    "# Start the threads\n",
    "thread1.start()\n",
    "thread2.start()\n",
    "\n",
    "# Wait for the threads to finish\n",
    "thread1.join()\n",
    "thread2.join()\n",
    "\n",
    "print(\"Program execution completed.\")\n"
   ]
  },
  {
   "cell_type": "code",
   "execution_count": 29,
   "id": "8fff9609",
   "metadata": {},
   "outputs": [
    {
     "name": "stdout",
     "output_type": "stream",
     "text": [
      "Thread 1: 1\n",
      "Thread 1: 2\n",
      "Thread 1: 3\n",
      "Thread 1: 4\n",
      "Thread 1: 5\n",
      "Thread 2: A\n",
      "Thread 2: B\n",
      "Thread 2: C\n",
      "Thread 2: D\n",
      "Thread 2: E\n"
     ]
    },
    {
     "ename": "RuntimeError",
     "evalue": "cannot join thread before it is started",
     "output_type": "error",
     "traceback": [
      "\u001b[1;31m---------------------------------------------------------------------------\u001b[0m",
      "\u001b[1;31mRuntimeError\u001b[0m                              Traceback (most recent call last)",
      "\u001b[1;32m~\\AppData\\Local\\Temp/ipykernel_6716/1686568198.py\u001b[0m in \u001b[0;36m<module>\u001b[1;34m\u001b[0m\n\u001b[0;32m     21\u001b[0m \u001b[1;33m\u001b[0m\u001b[0m\n\u001b[0;32m     22\u001b[0m \u001b[1;31m# Wait for the threads to finish using join method\u001b[0m\u001b[1;33m\u001b[0m\u001b[1;33m\u001b[0m\u001b[0m\n\u001b[1;32m---> 23\u001b[1;33m \u001b[0mthread1\u001b[0m\u001b[1;33m.\u001b[0m\u001b[0mjoin\u001b[0m\u001b[1;33m(\u001b[0m\u001b[1;33m)\u001b[0m\u001b[1;33m\u001b[0m\u001b[1;33m\u001b[0m\u001b[0m\n\u001b[0m\u001b[0;32m     24\u001b[0m \u001b[0mthread2\u001b[0m\u001b[1;33m.\u001b[0m\u001b[0mjoin\u001b[0m\u001b[1;33m(\u001b[0m\u001b[1;33m)\u001b[0m\u001b[1;33m\u001b[0m\u001b[1;33m\u001b[0m\u001b[0m\n\u001b[0;32m     25\u001b[0m \u001b[1;33m\u001b[0m\u001b[0m\n",
      "\u001b[1;32m~\\AppData\\Local\\Programs\\Python\\Python310\\lib\\threading.py\u001b[0m in \u001b[0;36mjoin\u001b[1;34m(self, timeout)\u001b[0m\n\u001b[0;32m   1082\u001b[0m             \u001b[1;32mraise\u001b[0m \u001b[0mRuntimeError\u001b[0m\u001b[1;33m(\u001b[0m\u001b[1;34m\"Thread.__init__() not called\"\u001b[0m\u001b[1;33m)\u001b[0m\u001b[1;33m\u001b[0m\u001b[1;33m\u001b[0m\u001b[0m\n\u001b[0;32m   1083\u001b[0m         \u001b[1;32mif\u001b[0m \u001b[1;32mnot\u001b[0m \u001b[0mself\u001b[0m\u001b[1;33m.\u001b[0m\u001b[0m_started\u001b[0m\u001b[1;33m.\u001b[0m\u001b[0mis_set\u001b[0m\u001b[1;33m(\u001b[0m\u001b[1;33m)\u001b[0m\u001b[1;33m:\u001b[0m\u001b[1;33m\u001b[0m\u001b[1;33m\u001b[0m\u001b[0m\n\u001b[1;32m-> 1084\u001b[1;33m             \u001b[1;32mraise\u001b[0m \u001b[0mRuntimeError\u001b[0m\u001b[1;33m(\u001b[0m\u001b[1;34m\"cannot join thread before it is started\"\u001b[0m\u001b[1;33m)\u001b[0m\u001b[1;33m\u001b[0m\u001b[1;33m\u001b[0m\u001b[0m\n\u001b[0m\u001b[0;32m   1085\u001b[0m         \u001b[1;32mif\u001b[0m \u001b[0mself\u001b[0m \u001b[1;32mis\u001b[0m \u001b[0mcurrent_thread\u001b[0m\u001b[1;33m(\u001b[0m\u001b[1;33m)\u001b[0m\u001b[1;33m:\u001b[0m\u001b[1;33m\u001b[0m\u001b[1;33m\u001b[0m\u001b[0m\n\u001b[0;32m   1086\u001b[0m             \u001b[1;32mraise\u001b[0m \u001b[0mRuntimeError\u001b[0m\u001b[1;33m(\u001b[0m\u001b[1;34m\"cannot join current thread\"\u001b[0m\u001b[1;33m)\u001b[0m\u001b[1;33m\u001b[0m\u001b[1;33m\u001b[0m\u001b[0m\n",
      "\u001b[1;31mRuntimeError\u001b[0m: cannot join thread before it is started"
     ]
    }
   ],
   "source": [
    "import threading\n",
    "import time\n",
    "\n",
    "def print_numbers():\n",
    "    for i in range(1, 6):\n",
    "        print(\"Thread 1:\", i)\n",
    "        time.sleep(1)\n",
    "\n",
    "def print_letters():\n",
    "    for letter in ['A', 'B', 'C', 'D', 'E']:\n",
    "        print(\"Thread 2:\", letter)\n",
    "        time.sleep(1)\n",
    "\n",
    "# Create thread objects\n",
    "thread1 = threading.Thread(target=print_numbers)\n",
    "thread2 = threading.Thread(target=print_letters)\n",
    "\n",
    "# Start the threads using run method\n",
    "thread1.run()\n",
    "thread2.run()\n",
    "\n",
    "# Wait for the threads to finish using join method\n",
    "thread1.join()\n",
    "thread2.join()\n",
    "\n",
    "print(\"Program execution completed.\")\n"
   ]
  },
  {
   "cell_type": "code",
   "execution_count": 30,
   "id": "46b8f2e1",
   "metadata": {},
   "outputs": [
    {
     "name": "stdout",
     "output_type": "stream",
     "text": [
      "Thread is running.\n",
      "Is the thread alive? False\n"
     ]
    }
   ],
   "source": [
    "import threading\n",
    "\n",
    "def my_function():\n",
    "    print(\"Thread is running.\")\n",
    "\n",
    "thread = threading.Thread(target=my_function)\n",
    "thread.start()\n",
    "\n",
    "print(\"Is the thread alive?\", thread.is_alive())\n"
   ]
  },
  {
   "cell_type": "code",
   "execution_count": 33,
   "id": "cbb1f2f0",
   "metadata": {},
   "outputs": [
    {
     "name": "stdout",
     "output_type": "stream",
     "text": [
      "Thread name: Thread-20 (my_function)\n",
      "False\n"
     ]
    },
    {
     "name": "stderr",
     "output_type": "stream",
     "text": [
      "C:\\Users\\Admin\\AppData\\Local\\Temp/ipykernel_6716/2816351232.py:4: DeprecationWarning: getName() is deprecated, get the name attribute instead\n",
      "  print(\"Thread name:\", threading.current_thread().getName())\n"
     ]
    }
   ],
   "source": [
    "def is_alive():\n",
    "  thread = threading.Thread(target=my_function)\n",
    "  thread.start()\n",
    "  print(thread.is_alive())\n",
    "\n",
    "if __name__ == \"__main__\":\n",
    "  is_alive()"
   ]
  },
  {
   "cell_type": "code",
   "execution_count": 36,
   "id": "6d476e66",
   "metadata": {},
   "outputs": [
    {
     "name": "stdout",
     "output_type": "stream",
     "text": [
      "Thread name:"
     ]
    },
    {
     "name": "stderr",
     "output_type": "stream",
     "text": [
      "C:\\Users\\Admin\\AppData\\Local\\Temp/ipykernel_6716/793992693.py:4: DeprecationWarning: getName() is deprecated, get the name attribute instead\n",
      "  print(\"Thread name:\", threading.current_thread().getName())\n"
     ]
    },
    {
     "name": "stdout",
     "output_type": "stream",
     "text": [
      " Thread-23 (my_function)\n"
     ]
    }
   ],
   "source": [
    "import threading\n",
    "\n",
    "def my_function():\n",
    "    print(\"Thread name:\", threading.current_thread().getName())\n",
    "\n",
    "thread = threading.Thread(target=my_function)\n",
    "thread.start()\n"
   ]
  },
  {
   "cell_type": "code",
   "execution_count": 35,
   "id": "9a98f072",
   "metadata": {},
   "outputs": [
    {
     "name": "stdout",
     "output_type": "stream",
     "text": [
      "Thread name: WorkerThread\n"
     ]
    },
    {
     "name": "stderr",
     "output_type": "stream",
     "text": [
      "C:\\Users\\Admin\\AppData\\Local\\Temp/ipykernel_6716/2816351232.py:7: DeprecationWarning: setName() is deprecated, set the name attribute instead\n",
      "  thread.setName(\"WorkerThread\")\n",
      "C:\\Users\\Admin\\AppData\\Local\\Temp/ipykernel_6716/2816351232.py:4: DeprecationWarning: getName() is deprecated, get the name attribute instead\n",
      "  print(\"Thread name:\", threading.current_thread().getName())\n"
     ]
    }
   ],
   "source": [
    "import threading\n",
    "\n",
    "def my_function():\n",
    "    print(\"Thread name:\", threading.current_thread().getName())\n",
    "\n",
    "thread = threading.Thread(target=my_function)\n",
    "thread.setName(\"WorkerThread\")\n",
    "thread.start()\n"
   ]
  },
  {
   "cell_type": "code",
   "execution_count": 40,
   "id": "91fa2f8e",
   "metadata": {},
   "outputs": [
    {
     "name": "stdout",
     "output_type": "stream",
     "text": [
      "Shared resource value: 5\n"
     ]
    }
   ],
   "source": [
    "import threading\n",
    "\n",
    "shared_resource = 0\n",
    "lock = threading.Lock()\n",
    "\n",
    "def increment():\n",
    "    global shared_resource\n",
    "    with lock:\n",
    "        shared_resource += 1\n",
    "\n",
    "threads = []\n",
    "for _ in range(5):\n",
    "    thread = threading.Thread(target=increment)\n",
    "    threads.append(thread)\n",
    "    thread.start()\n",
    "\n",
    "for thread in threads:\n",
    "    thread.join()\n",
    "\n",
    "print(\"Shared resource value:\", shared_resource)\n"
   ]
  },
  {
   "cell_type": "code",
   "execution_count": 39,
   "id": "dc65de33",
   "metadata": {},
   "outputs": [
    {
     "name": "stdout",
     "output_type": "stream",
     "text": [
      "Shared resource: [0, 1, 2, 3, 4, 5, 6, 7, 8, 9]\n"
     ]
    }
   ],
   "source": [
    "import threading\n",
    "\n",
    "shared_resource = []\n",
    "max_concurrent_threads = 2\n",
    "semaphore = threading.Semaphore(max_concurrent_threads)\n",
    "\n",
    "def append_to_list(item):\n",
    "    with semaphore:\n",
    "        shared_resource.append(item)\n",
    "\n",
    "threads = []\n",
    "for i in range(10):\n",
    "    thread = threading.Thread(target=append_to_list, args=(i,))\n",
    "    threads.append(thread)\n",
    "    thread.start()\n",
    "\n",
    "for thread in threads:\n",
    "    thread.join()\n",
    "\n",
    "print(\"Shared resource:\", shared_resource)\n"
   ]
  },
  {
   "cell_type": "code",
   "execution_count": 38,
   "id": "ecab97f3",
   "metadata": {},
   "outputs": [
    {
     "name": "stdout",
     "output_type": "stream",
     "text": [
      "Shared resource: [5, 7, 9, 8, 6]\n"
     ]
    }
   ],
   "source": [
    "import threading\n",
    "\n",
    "shared_resource = []\n",
    "max_items = 5\n",
    "condition = threading.Condition()\n",
    "\n",
    "def produce_item(item):\n",
    "    with condition:\n",
    "        while len(shared_resource) >= max_items:\n",
    "            condition.wait()\n",
    "        shared_resource.append(item)\n",
    "        condition.notify()\n",
    "\n",
    "def consume_item():\n",
    "    with condition:\n",
    "        while len(shared_resource) == 0:\n",
    "            condition.wait()\n",
    "        item = shared_resource.pop(0)\n",
    "        condition.notify()\n",
    "        return item\n",
    "\n",
    "producer_threads = []\n",
    "consumer_threads = []\n",
    "\n",
    "for i in range(10):\n",
    "    producer_thread = threading.Thread(target=produce_item, args=(i,))\n",
    "    producer_threads.append(producer_thread)\n",
    "    producer_thread.start()\n",
    "\n",
    "for _ in range(5):\n",
    "    consumer_thread = threading.Thread(target=consume_item)\n",
    "    consumer_threads.append(consumer_thread)\n",
    "    consumer_thread.start()\n",
    "\n",
    "for producer_thread in producer_threads:\n",
    "    producer_thread.join()\n",
    "\n",
    "for consumer_thread in consumer_threads:\n",
    "    consumer_thread.join()\n",
    "\n",
    "print(\"Shared resource:\", shared_resource)\n"
   ]
  },
  {
   "cell_type": "code",
   "execution_count": null,
   "id": "9d4e0745",
   "metadata": {},
   "outputs": [],
   "source": []
  },
  {
   "cell_type": "code",
   "execution_count": null,
   "id": "226e97d3",
   "metadata": {},
   "outputs": [],
   "source": []
  }
 ],
 "metadata": {
  "kernelspec": {
   "display_name": "Python 3 (ipykernel)",
   "language": "python",
   "name": "python3"
  },
  "language_info": {
   "codemirror_mode": {
    "name": "ipython",
    "version": 3
   },
   "file_extension": ".py",
   "mimetype": "text/x-python",
   "name": "python",
   "nbconvert_exporter": "python",
   "pygments_lexer": "ipython3",
   "version": "3.9.13"
  }
 },
 "nbformat": 4,
 "nbformat_minor": 5
}
