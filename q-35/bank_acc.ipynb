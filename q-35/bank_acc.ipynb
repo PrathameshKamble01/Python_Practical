{
 "cells": [
  {
   "cell_type": "markdown",
   "metadata": {},
   "source": [
    "Title:\n",
    "Bank Account Simulation Program\n",
    "\n",
    "Prerequisites:\n",
    "Basic understanding of Python programming language, object-oriented programming concepts.\n",
    "\n",
    "Objectives:\n",
    "Create a program to simulate a bank account with functionalities to deposit money, withdraw money, and display the current balance.\n",
    "\n",
    "Algorithm:\n",
    "1. Define a class named BankAccount with attributes such as account number, account holder name, and balance.\n",
    "2. Implement methods for depositing money, withdrawing money, and displaying the balance.\n",
    "3. Check for appropriate conditions such as sufficient balance for withdrawal.\n",
    "4. Test the program by creating an instance of BankAccount and performing deposit, withdrawal, and balance display operations.\n",
    "\n"
   ]
  },
  {
   "cell_type": "code",
   "execution_count": 1,
   "metadata": {},
   "outputs": [
    {
     "name": "stdout",
     "output_type": "stream",
     "text": [
      "Deposited $1000. Current balance: $1000\n",
      "Withdrew $500. Current balance: $500\n",
      "Account Balance for John Doe: $500\n"
     ]
    }
   ],
   "source": [
    "class BankAccount:\n",
    "    def __init__(self, account_number, account_holder, balance=0):\n",
    "        self.account_number = account_number\n",
    "        self.account_holder = account_holder\n",
    "        self.balance = balance\n",
    "\n",
    "    def deposit_money(self, amount):\n",
    "        if amount > 0:\n",
    "            self.balance += amount\n",
    "            print(f\"Deposited ${amount}. Current balance: ${self.balance}\")\n",
    "        else:\n",
    "            print(\"Invalid amount for deposit.\")\n",
    "\n",
    "    def withdraw_money(self, amount):\n",
    "        if 0 < amount <= self.balance:\n",
    "            self.balance -= amount\n",
    "            print(f\"Withdrew ${amount}. Current balance: ${self.balance}\")\n",
    "        else:\n",
    "            print(\"Insufficient funds or invalid amount for withdrawal.\")\n",
    "\n",
    "    def show_balance(self):\n",
    "        print(f\"Account Balance for {self.account_holder}: ${self.balance}\")\n",
    "\n",
    "\n",
    "# Test the program\n",
    "if __name__ == \"__main__\":\n",
    "    # Create an instance of BankAccount\n",
    "    account = BankAccount(\"123456789\", \"John Doe\")\n",
    "\n",
    "    # Deposit money\n",
    "    account.deposit_money(1000)\n",
    "\n",
    "    # Withdraw money\n",
    "    account.withdraw_money(500)\n",
    "\n",
    "    # Display balance\n",
    "    account.show_balance()"
   ]
  }
 ],
 "metadata": {
  "kernelspec": {
   "display_name": "Python 3",
   "language": "python",
   "name": "python3"
  },
  "language_info": {
   "codemirror_mode": {
    "name": "ipython",
    "version": 3
   },
   "file_extension": ".py",
   "mimetype": "text/x-python",
   "name": "python",
   "nbconvert_exporter": "python",
   "pygments_lexer": "ipython3",
   "version": "3.12.1"
  }
 },
 "nbformat": 4,
 "nbformat_minor": 2
}
