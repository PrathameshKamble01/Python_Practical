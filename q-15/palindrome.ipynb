{
 "cells": [
  {
   "cell_type": "markdown",
   "metadata": {},
   "source": [
    "Q-15\n",
    "\n",
    "Title: \n",
    "Palindrome Checker using Slicing and Functions\n",
    "\n",
    "Prerequisites: \n",
    "Basic knowledge of Python, string slicing.\n",
    "\n",
    "Objectives: \n",
    "To create a Python program that checks whether a given string is a palindrome or not using slicing and functions.\n",
    "\n",
    "Algorithm:\n",
    "\n",
    "1. Define a function to check if a string is a palindrome.\n",
    "2. Within the function, use string slicing to reverse the given string.\n",
    "3. Compare the reversed string with the original string.\n",
    "4. If they are the same, return True (indicating that the string is a palindrome), otherwise return False."
   ]
  },
  {
   "cell_type": "code",
   "execution_count": 4,
   "metadata": {},
   "outputs": [
    {
     "name": "stdout",
     "output_type": "stream",
     "text": [
      "prathamesh : the given string is not a palindrome.\n"
     ]
    }
   ],
   "source": [
    "def is_palindrome(s):\n",
    "    reversed_s = s[::-1]\n",
    "    return s == reversed_s\n",
    "\n",
    "def main():\n",
    "    user_input = input(\"Enter a string: \")\n",
    "    if is_palindrome(user_input):\n",
    "        print(user_input,\": the given string is a palindrome.\")\n",
    "    else:\n",
    "        print(user_input,\": the given string is not a palindrome.\")\n",
    "\n",
    "if __name__ == \"__main__\":\n",
    "    main()\n"
   ]
  }
 ],
 "metadata": {
  "kernelspec": {
   "display_name": "Python 3",
   "language": "python",
   "name": "python3"
  },
  "language_info": {
   "codemirror_mode": {
    "name": "ipython",
    "version": 3
   },
   "file_extension": ".py",
   "mimetype": "text/x-python",
   "name": "python",
   "nbconvert_exporter": "python",
   "pygments_lexer": "ipython3",
   "version": "3.12.1"
  }
 },
 "nbformat": 4,
 "nbformat_minor": 2
}
