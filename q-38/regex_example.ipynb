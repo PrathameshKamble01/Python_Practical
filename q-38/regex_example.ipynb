{
 "cells": [
  {
   "cell_type": "markdown",
   "metadata": {},
   "source": [
    "Title: Regular Expression Operations\n",
    "\n",
    "Prerequisites: Basic understanding of regular expressions in Python\n",
    "\n",
    "Objectives:\n",
    "- Extract year, month, and date from a string\n",
    "- Extract only 3-digit numbers from a string\n",
    "- Extract all words and numbers from a string\n",
    "- Find words starting with a vowel\n",
    "- Find words starting with a consonant\n",
    "- Count total occurrences of \"a\", \"an\", and \"the\"\n",
    "- Find all words at least 4 characters long in a string\n",
    "- Check for a number at the end of a string\n",
    "- Check for a number starting with 1 or 2 and having 4 digits\n",
    "- Match a string with \"a\" followed by anything, ending in \"b\"\n",
    "\n",
    "Algorithm:\n",
    "1. Define regular expressions for each objective.\n",
    "2. Use Python's `re` module to apply these regular expressions to given strings."
   ]
  },
  {
   "cell_type": "code",
   "execution_count": 2,
   "metadata": {},
   "outputs": [
    {
     "name": "stdout",
     "output_type": "stream",
     "text": [
      "Year, Month, Date: [('2024', '04', '12')]\n",
      "Three Digit Numbers: []\n",
      "Words and Numbers: ['Today', '2024', '04', '12', 'i', 'went', 'on', 'a', 'date', 'with', 'Akshata', 'everything', 'went', 'very', 'well', 'but', 'i', 'miss', 'her']\n",
      "Vowel Start Words: ['i', 'on', 'a', 'Akshata', 'everything', 'i']\n",
      "Consonant Start Words: ['Today', '2024', '04', '12', 'went', 'date', 'with', 'went', 'very', 'well', 'but', 'miss', 'her']\n",
      "Total 'a', 'an', 'the': 1\n",
      "Four Character Words: ['Today', '2024', 'went', 'date', 'with', 'Akshata', 'everything', 'went', 'very', 'well', 'miss']\n",
      "Number at End: False\n",
      "Number Starting with 1 or 2 and having Four Digits: True\n",
      "Matches 'a' followed by anything, ending in 'b': False\n"
     ]
    }
   ],
   "source": [
    "import re\n",
    "\n",
    "# Sample string\n",
    "sample_string = \"Today 2024-04-12 i went on a date with Akshata, everything went very well, but i miss her.\"\n",
    "\n",
    "# Regular expressions\n",
    "year_month_date_regex = r'\\b(\\d{4})-(\\d{2})-(\\d{2})\\b'\n",
    "three_digit_number_regex = r'\\b\\d{3}\\b'\n",
    "words_and_numbers_regex = r'\\b[\\w\\d]+\\b'\n",
    "vowel_start_regex = r'\\b[aeiouAEIOU]\\w*\\b'\n",
    "consonant_start_regex = r'\\b[^aeiouAEIOU\\W]\\w*\\b'\n",
    "article_count_regex = r'\\b(?:a|an|the)\\b'\n",
    "four_char_words_regex = r'\\b\\w{4,}\\b'\n",
    "number_end_regex = r'\\d+$'\n",
    "one_or_two_start_four_digits_regex = r'\\b[12]\\d{3}\\b'\n",
    "a_to_b_regex = r'a.*b\\b'\n",
    "\n",
    "# Functions to perform operations\n",
    "def extract_year_month_date(string):\n",
    "    return re.findall(year_month_date_regex, string)\n",
    "\n",
    "def extract_three_digit_numbers(string):\n",
    "    return re.findall(three_digit_number_regex, string)\n",
    "\n",
    "def extract_words_and_numbers(string):\n",
    "    return re.findall(words_and_numbers_regex, string)\n",
    "\n",
    "def find_vowel_start_words(string):\n",
    "    return re.findall(vowel_start_regex, string)\n",
    "\n",
    "def find_consonant_start_words(string):\n",
    "    return re.findall(consonant_start_regex, string)\n",
    "\n",
    "def count_articles(string):\n",
    "    return len(re.findall(article_count_regex, string))\n",
    "\n",
    "def find_four_char_words(string):\n",
    "    return re.findall(four_char_words_regex, string)\n",
    "\n",
    "def check_number_end(string):\n",
    "    return bool(re.search(number_end_regex, string))\n",
    "\n",
    "def check_one_or_two_start_four_digits(string):\n",
    "    return bool(re.search(one_or_two_start_four_digits_regex, string))\n",
    "\n",
    "def match_a_to_b(string):\n",
    "    return bool(re.search(a_to_b_regex, string))\n",
    "\n",
    "# Example usage\n",
    "print(\"Year, Month, Date:\", extract_year_month_date(sample_string))\n",
    "print(\"Three Digit Numbers:\", extract_three_digit_numbers(sample_string))\n",
    "print(\"Words and Numbers:\", extract_words_and_numbers(sample_string))\n",
    "print(\"Vowel Start Words:\", find_vowel_start_words(sample_string))\n",
    "print(\"Consonant Start Words:\", find_consonant_start_words(sample_string))\n",
    "print(\"Total 'a', 'an', 'the':\", count_articles(sample_string))\n",
    "print(\"Four Character Words:\", find_four_char_words(sample_string))\n",
    "print(\"Number at End:\", check_number_end(sample_string))\n",
    "print(\"Number Starting with 1 or 2 and having Four Digits:\", check_one_or_two_start_four_digits(sample_string))\n",
    "print(\"Matches 'a' followed by anything, ending in 'b':\", match_a_to_b(sample_string))"
   ]
  }
 ],
 "metadata": {
  "kernelspec": {
   "display_name": "Python 3",
   "language": "python",
   "name": "python3"
  },
  "language_info": {
   "codemirror_mode": {
    "name": "ipython",
    "version": 3
   },
   "file_extension": ".py",
   "mimetype": "text/x-python",
   "name": "python",
   "nbconvert_exporter": "python",
   "pygments_lexer": "ipython3",
   "version": "3.12.1"
  }
 },
 "nbformat": 4,
 "nbformat_minor": 2
}
