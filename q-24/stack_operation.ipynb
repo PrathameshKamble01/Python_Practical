{
 "cells": [
  {
   "cell_type": "markdown",
   "metadata": {},
   "source": [
    "Title:\n",
    "Stack Operations Implementation\n",
    "\n",
    "Prerequisites:\n",
    "Basic understanding of Python functions and data structures.\n",
    "\n",
    "Objectives:\n",
    "\n",
    "1. Implement stack operations such as push, pop, peek, and check if the stack is empty.\n",
    "2. Utilize *args to allow flexible function arguments.\n",
    "\n",
    "Algorithm:\n",
    "\n",
    "1. Initialize an empty list to act as the stack.\n",
    "2. Implement the push operation to append elements to the end of the list.\n",
    "3. Implement the pop operation to remove and return the last element from the list.\n",
    "4. Implement the peek operation to return the last element from the list without removing it.\n",
    "5. Implement the is_empty operation to check if the stack is empty by checking if the list is empty."
   ]
  },
  {
   "cell_type": "code",
   "execution_count": 1,
   "metadata": {},
   "outputs": [
    {
     "name": "stdout",
     "output_type": "stream",
     "text": [
      "Stack: [1, 2, 3]\n",
      "Peek: 3\n",
      "Pop: 3\n",
      "Stack: [1, 2]\n",
      "Is stack empty? False\n"
     ]
    }
   ],
   "source": [
    "class Stack:\n",
    "    def __init__(self):\n",
    "        self.stack = []\n",
    "\n",
    "    def push(self, *args):\n",
    "        self.stack.extend(args)\n",
    "\n",
    "    def pop(self):\n",
    "        if not self.is_empty():\n",
    "            return self.stack.pop()\n",
    "        else:\n",
    "            print(\"Stack is empty\")\n",
    "            return None\n",
    "\n",
    "    def peek(self):\n",
    "        if not self.is_empty():\n",
    "            return self.stack[-1]\n",
    "        else:\n",
    "            print(\"Stack is empty\")\n",
    "            return None\n",
    "\n",
    "    def is_empty(self):\n",
    "        return len(self.stack) == 0\n",
    "\n",
    "# Example usage\n",
    "stack = Stack()\n",
    "stack.push(1, 2, 3)\n",
    "print(\"Stack:\", stack.stack)\n",
    "print(\"Peek:\", stack.peek())\n",
    "print(\"Pop:\", stack.pop())\n",
    "print(\"Stack:\", stack.stack)\n",
    "print(\"Is stack empty?\", stack.is_empty())\n"
   ]
  }
 ],
 "metadata": {
  "kernelspec": {
   "display_name": "Python 3",
   "language": "python",
   "name": "python3"
  },
  "language_info": {
   "codemirror_mode": {
    "name": "ipython",
    "version": 3
   },
   "file_extension": ".py",
   "mimetype": "text/x-python",
   "name": "python",
   "nbconvert_exporter": "python",
   "pygments_lexer": "ipython3",
   "version": "3.12.1"
  }
 },
 "nbformat": 4,
 "nbformat_minor": 2
}
