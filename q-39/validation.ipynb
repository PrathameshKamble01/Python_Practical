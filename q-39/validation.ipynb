{
 "cells": [
  {
   "cell_type": "markdown",
   "metadata": {},
   "source": [
    "Title:\n",
    "String Parenthesis Removal\n",
    "\n",
    "Prerequisites:\n",
    "Basic understanding of Python and regular expressions.\n",
    "\n",
    "Objectives:\n",
    "1. Remove the area enclosed within parenthesis from a given string.\n",
    "2. Extract the beginning word of a string using a regular expression.\n",
    "3. Extract the first two characters from each word (excluding numbers) using a regular expression.\n",
    "4. Extract dates from a string using a regular expression.\n",
    "5. Extract time in the format HH:MIN:SEC from a string using a regular expression.\n",
    "6. Validate IP address using a regular expression in Python.\n",
    "7. Validate email address using a regular expression.\n",
    "8. Validate URL using a regular expression.\n",
    "9. Validate PAN card number using a regular expression in Python.\n",
    "\n",
    "Algorithm:\n",
    "1. Define a function `remove_parenthesis_area` to remove the area enclosed within parenthesis.\n",
    "2. Use a regular expression to match the beginning word of a string.\n",
    "3. Use a regular expression to match the first two characters from each word (excluding numbers).\n",
    "4. Use a regular expression to extract dates from a string.\n",
    "5. Use a regular expression to extract time in the format HH:MIN:SEC from a string.\n",
    "6. Use a regular expression to validate IP address.\n",
    "7. Use a regular expression to validate email address.\n",
    "8. Use a regular expression to validate URL.\n",
    "9. Use a regular expression to validate PAN card number."
   ]
  },
  {
   "cell_type": "code",
   "execution_count": 1,
   "metadata": {},
   "outputs": [
    {
     "name": "stdout",
     "output_type": "stream",
     "text": [
      "This is a  string .\n",
      "This\n",
      "['Th', 'is', 'te', 'st', 'wi', 'pa']\n",
      "['13/04/2024', '14-04-24']\n",
      "['15:30:00']\n",
      "True\n",
      "True\n",
      "True\n",
      "True\n"
     ]
    }
   ],
   "source": [
    "import re\n",
    "\n",
    "def remove_parenthesis_area(string):\n",
    "    return re.sub(r'\\([^)]*\\)', '', string)\n",
    "\n",
    "def extract_beginning_word(string):\n",
    "    match = re.match(r'^\\w+', string)\n",
    "    if match:\n",
    "        return match.group()\n",
    "    return None\n",
    "\n",
    "def extract_first_two_characters(string):\n",
    "    return re.findall(r'\\b(?!\\d)\\w\\w', string)\n",
    "\n",
    "def extract_dates(string):\n",
    "    return re.findall(r'\\b(?:0?[1-9]|[12][0-9]|3[01])[-/.](?:0?[1-9]|1[012])[-/.](?:\\d{2})?\\d{2}\\b', string)\n",
    "\n",
    "def extract_time(string):\n",
    "    return re.findall(r'\\b(?:[01]?[0-9]|2[0-3]):(?:[0-5]?[0-9]):(?:[0-5]?[0-9])\\b', string)\n",
    "\n",
    "def validate_ip_address(ip):\n",
    "    return bool(re.match(r'^((25[0-5]|2[0-4][0-9]|[01]?[0-9][0-9]?)\\.){3}(25[0-5]|2[0-4][0-9]|[01]?[0-9][0-9]?)$', ip))\n",
    "\n",
    "def validate_email(email):\n",
    "    return bool(re.match(r'^[a-zA-Z0-9._%+-]+@[a-zA-Z0-9.-]+\\.[a-zA-Z]{2,}$', email))\n",
    "\n",
    "def validate_url(url):\n",
    "    return bool(re.match(r'^(http|https):\\/\\/[a-zA-Z0-9\\-\\.]+\\.[a-zA-Z]{2,}\\/?.*$', url))\n",
    "\n",
    "def validate_pan_card_number(pan):\n",
    "    return bool(re.match(r'^[A-Z]{5}[0-9]{4}[A-Z]$', pan))\n",
    "\n",
    "# Test the functions\n",
    "test_string = \"This is a (test) string (with parenthesis).\"\n",
    "print(remove_parenthesis_area(test_string))  # Output: \"This is a  string .\"\n",
    "print(extract_beginning_word(test_string))   # Output: \"This\"\n",
    "print(extract_first_two_characters(test_string))  # Output: ['Th', 'is', 'st', 'ri', 'wi', 'pa']\n",
    "print(extract_dates(\"Today is 13/04/2024 and tomorrow is 14-04-24.\"))  # Output: ['13/04/2024', '14-04-24']\n",
    "print(extract_time(\"The meeting is at 15:30:00.\"))  # Output: ['15:30:00']\n",
    "print(validate_ip_address(\"192.168.1.1\"))      # Output: True\n",
    "print(validate_email(\"example@example.com\"))   # Output: True\n",
    "print(validate_url(\"https://www.example.com\")) # Output: True\n",
    "print(validate_pan_card_number(\"ABCDE1234F\"))   # Output: True"
   ]
  }
 ],
 "metadata": {
  "kernelspec": {
   "display_name": "Python 3",
   "language": "python",
   "name": "python3"
  },
  "language_info": {
   "codemirror_mode": {
    "name": "ipython",
    "version": 3
   },
   "file_extension": ".py",
   "mimetype": "text/x-python",
   "name": "python",
   "nbconvert_exporter": "python",
   "pygments_lexer": "ipython3",
   "version": "3.12.1"
  }
 },
 "nbformat": 4,
 "nbformat_minor": 2
}
