{
 "cells": [
  {
   "cell_type": "code",
   "execution_count": 2,
   "metadata": {},
   "outputs": [
    {
     "name": "stdout",
     "output_type": "stream",
     "text": [
      "Marks in subject 1:  89.0\n",
      "Marks in subject 2:  67.0\n",
      "Marks in subject 3:  90.0\n",
      "Percentage of marks: 82.0\n"
     ]
    }
   ],
   "source": [
    "subject1 = float(input(\"Enter marks obtained in subject 1: \"))\n",
    "print(\"Marks in subject 1: \", subject1)\n",
    "subject2 = float(input(\"Enter marks obtained in subject 2: \"))\n",
    "print(\"Marks in subject 2: \", subject2)\n",
    "subject3 = float(input(\"Enter marks obtained in subject 3: \"))\n",
    "print(\"Marks in subject 3: \", subject3)\n",
    "\n",
    "\n",
    "total_marks = subject1 + subject2 + subject3\n",
    "\n",
    "percentage = (total_marks / 300) * 100\n",
    "\n",
    "print(\"Percentage of marks:\", percentage)"
   ]
  }
 ],
 "metadata": {
  "kernelspec": {
   "display_name": "Python 3",
   "language": "python",
   "name": "python3"
  },
  "language_info": {
   "codemirror_mode": {
    "name": "ipython",
    "version": 3
   },
   "file_extension": ".py",
   "mimetype": "text/x-python",
   "name": "python",
   "nbconvert_exporter": "python",
   "pygments_lexer": "ipython3",
   "version": "3.12.1"
  }
 },
 "nbformat": 4,
 "nbformat_minor": 2
}
