{
 "cells": [
  {
   "cell_type": "markdown",
   "metadata": {},
   "source": [
    "Q-21\n",
    "\n",
    "Title: \n",
    "Linear Search Algorithm\n",
    "\n",
    "Prerequisites: \n",
    "Basic knowledge of Python programming.\n",
    "\n",
    "Objectives: \n",
    "To implement a linear search algorithm to find a given key number in a list and report whether it's found or not.\n",
    "\n",
    "Algorithm:\n",
    "\n",
    "1. Define a function linear_search that takes two arguments: arr (the list to search through) and key (the number to find).\n",
    "2. Iterate through each element in the list using a for loop.\n",
    "3. Check if the current element is equal to the key.\n",
    "4. If found, return True.\n",
    "5. If the loop completes without finding the key, return False."
   ]
  },
  {
   "cell_type": "code",
   "execution_count": 2,
   "metadata": {},
   "outputs": [
    {
     "name": "stdout",
     "output_type": "stream",
     "text": [
      "45 is not found in the list.\n"
     ]
    }
   ],
   "source": [
    "def linear_search(arr, key):\n",
    "    for num in arr:\n",
    "        if num == key:\n",
    "            return True\n",
    "    return False\n",
    "\n",
    "# Example usage\n",
    "if __name__ == \"__main__\":\n",
    "    numbers = [5, 10, 15, 20, 25]\n",
    "    key_to_find = int(input(\"Enter Key to Find: \"))\n",
    "\n",
    "    if linear_search(numbers, key_to_find):\n",
    "        print(f\"{key_to_find} is found in the list.\")\n",
    "    else:\n",
    "        print(f\"{key_to_find} is not found in the list.\")\n"
   ]
  }
 ],
 "metadata": {
  "kernelspec": {
   "display_name": "Python 3",
   "language": "python",
   "name": "python3"
  },
  "language_info": {
   "codemirror_mode": {
    "name": "ipython",
    "version": 3
   },
   "file_extension": ".py",
   "mimetype": "text/x-python",
   "name": "python",
   "nbconvert_exporter": "python",
   "pygments_lexer": "ipython3",
   "version": "3.12.1"
  }
 },
 "nbformat": 4,
 "nbformat_minor": 2
}
