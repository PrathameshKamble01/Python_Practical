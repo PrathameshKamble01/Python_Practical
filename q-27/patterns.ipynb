{
 "cells": [
  {
   "cell_type": "markdown",
   "metadata": {},
   "source": [
    "Title: Pattern Printing\n",
    "\n",
    "Prequisites:\n",
    "1. Basic understanding of python loops\n",
    "\n",
    "Objective:\n",
    "Write a python program to print a pattern"
   ]
  },
  {
   "cell_type": "code",
   "execution_count": 1,
   "metadata": {},
   "outputs": [
    {
     "name": "stdout",
     "output_type": "stream",
     "text": [
      "1 \n",
      "1 2 \n",
      "1 2 3 \n",
      "1 2 3 4 \n",
      "1 2 3 4 5 \n"
     ]
    }
   ],
   "source": [
    "def print_pattern(n):\n",
    " for i in range(1, n+1):\n",
    "    for j in range(1, i+1):\n",
    "        print(j, end=\" \")\n",
    "    print()\n",
    "n = int(input(\"Enter the number of rows: \"))\n",
    "print_pattern(n)"
   ]
  },
  {
   "cell_type": "code",
   "execution_count": 2,
   "metadata": {},
   "outputs": [
    {
     "name": "stdout",
     "output_type": "stream",
     "text": [
      "A\n",
      "B C\n",
      "C D E\n",
      "D E F G\n",
      "E F G H I\n"
     ]
    }
   ],
   "source": [
    "def print_pattern(n):\n",
    " for i in range(n):\n",
    "    start_char = chr(65 + i) # ASCII code for 'A' is 65\n",
    "    line = \"\"\n",
    "    for j in range(i + 1):\n",
    "        line += chr(ord(start_char) + j) + \" \"\n",
    "    print(line.strip())\n",
    "n = int(input(\"Enter the number of rows: \"))\n",
    "print_pattern(n)"
   ]
  },
  {
   "cell_type": "code",
   "execution_count": 3,
   "metadata": {},
   "outputs": [
    {
     "name": "stdout",
     "output_type": "stream",
     "text": [
      "55555\n",
      "4444\n",
      "333\n",
      "22\n",
      "1\n"
     ]
    }
   ],
   "source": [
    "def print_pattern(n):\n",
    " for i in range(n, 0, -1):\n",
    "    line = \"\"\n",
    "    for j in range(i):\n",
    "        line += str(i)\n",
    "    print(line)\n",
    "n = int(input(\"Enter the number of rows: \"))\n",
    "print_pattern(n)"
   ]
  },
  {
   "cell_type": "code",
   "execution_count": 4,
   "metadata": {},
   "outputs": [
    {
     "name": "stdout",
     "output_type": "stream",
     "text": [
      "    *\n",
      "   **\n",
      "  ***\n",
      " ****\n",
      "*****\n"
     ]
    }
   ],
   "source": [
    "def print_pattern(n):\n",
    " for i in range(1, n + 1):\n",
    "    spaces = \" \" * (n - i)\n",
    "    stars = \"*\" * i\n",
    "    print(spaces + stars)\n",
    "n = 5 \n",
    "print_pattern(n)\n"
   ]
  },
  {
   "cell_type": "code",
   "execution_count": 5,
   "metadata": {},
   "outputs": [
    {
     "name": "stdout",
     "output_type": "stream",
     "text": [
      "****************\n",
      "*******_*******\n",
      "******___******\n",
      "*****_____*****\n",
      "****________****\n",
      "***_________***\n",
      "**___________**\n",
      "*______________*\n"
     ]
    }
   ],
   "source": [
    "def print_pattern(n):\n",
    " for i in range(n):\n",
    "    stars = \"*\" * (n-i)\n",
    "    if i == n-1 or i == n//2:\n",
    "        spaces = \"_\" * (2*i)\n",
    "    else:\n",
    "        spaces = \"_\" * (2*i-1)\n",
    "    print(stars + spaces + stars)\n",
    "n = 8 # Number of rows in the pattern\n",
    "print_pattern(n)"
   ]
  },
  {
   "cell_type": "code",
   "execution_count": 7,
   "metadata": {},
   "outputs": [
    {
     "name": "stdout",
     "output_type": "stream",
     "text": [
      "   * \n",
      "  * * * \n",
      " * * * * * \n",
      "* * * * * * * \n"
     ]
    }
   ],
   "source": [
    "def print_space(space):\n",
    "    if space > 0:\n",
    "        print(\" \", end=\"\")\n",
    "        print_space(space - 1)\n",
    "\n",
    "def print_star(star):\n",
    "    if star > 0:\n",
    "        print(\"* \", end=\"\")\n",
    "        print_star(star - 1)\n",
    "\n",
    "def print_pyramid(n, current_row=1):\n",
    "    if current_row > n:\n",
    "        return\n",
    "    spaces = n - current_row\n",
    "    stars = 2 * current_row - 1\n",
    "    print_space(spaces)\n",
    "    print_star(stars)\n",
    "    print()\n",
    "    print_pyramid(n, current_row + 1)\n",
    "\n",
    "n = 4  # Set the number of rows for the pyramid\n",
    "print_pyramid(n)\n"
   ]
  },
  {
   "cell_type": "code",
   "execution_count": 8,
   "metadata": {},
   "outputs": [
    {
     "name": "stdout",
     "output_type": "stream",
     "text": [
      "         * \n",
      "       *  * \n",
      "     *  *  * \n",
      "   *  *  *  * \n",
      " *  *  *  *  * \n"
     ]
    }
   ],
   "source": [
    "def print_pattern(n):\n",
    " for i in range(n):\n",
    "    spaces = \" \" * (2 * (n - i - 1))\n",
    "    stars = \" * \" * (i + 1)\n",
    "    print(spaces + stars)\n",
    "n = 5 # Number of rows in the pattern\n",
    "print_pattern(n)\n"
   ]
  },
  {
   "cell_type": "code",
   "execution_count": 9,
   "metadata": {},
   "outputs": [
    {
     "name": "stdout",
     "output_type": "stream",
     "text": [
      "1\n",
      "0 1\n",
      "1 0 1\n",
      "0 1 0 1\n"
     ]
    }
   ],
   "source": [
    "def print_pattern(n):\n",
    " for i in range(n):\n",
    "    line = \"\"\n",
    "    for j in range(i + 1):\n",
    "        if (i + j) % 2 == 0:\n",
    "            line += \"1 \"\n",
    "        else:\n",
    "            line += \"0 \"\n",
    "    print(line.strip())\n",
    "n = 4 # Number of rows in the pattern\n",
    "print_pattern(n)"
   ]
  }
 ],
 "metadata": {
  "kernelspec": {
   "display_name": "Python 3",
   "language": "python",
   "name": "python3"
  },
  "language_info": {
   "codemirror_mode": {
    "name": "ipython",
    "version": 3
   },
   "file_extension": ".py",
   "mimetype": "text/x-python",
   "name": "python",
   "nbconvert_exporter": "python",
   "pygments_lexer": "ipython3",
   "version": "3.12.1"
  }
 },
 "nbformat": 4,
 "nbformat_minor": 2
}
