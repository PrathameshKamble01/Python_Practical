{
 "cells": [
  {
   "cell_type": "markdown",
   "metadata": {},
   "source": [
    "Q-19\n",
    "\n",
    "Title: \n",
    "Word Occurrence Counter\n",
    "\n",
    "Prerequisites: \n",
    "Basic knowledge of Python programming language\n",
    "\n",
    "Objectives: \n",
    "To create a Python function that counts the occurrence of user-entered words in a sentence.\n",
    "\n",
    "Algorithm:\n",
    "\n",
    "1. Define a function named count_word_occurrence that takes two arguments: sentence (the input sentence) and words (a list   of words to count occurrences of).\n",
    "2. Initialize an empty dictionary named word_count.\n",
    "3. Split the input sentence into words using the split() method and store the result in a list called words_in_sentence.\n",
    "4. Iterate over each word in words_in_sentence.\n",
    "    a. For each word, check if it exists in the words list.\n",
    "    b. If it exists, increment the count of that word in the word_count dictionary.\n",
    "5. Return the word_count dictionary.\n"
   ]
  },
  {
   "cell_type": "code",
   "execution_count": null,
   "metadata": {},
   "outputs": [],
   "source": [
    "def count_word_occurrence(sentence, words):\n",
    "    # Initialize an empty dictionary to store word occurrences\n",
    "    word_count = {}\n",
    "    \n",
    "    # Split the input sentence into words\n",
    "    words_in_sentence = sentence.split()\n",
    "    \n",
    "    # Iterate over each word in the sentence\n",
    "    for word in words_in_sentence:\n",
    "        # Check if the word exists in the list of words to count\n",
    "        if word in words:\n",
    "            # Increment the count of the word in the dictionary\n",
    "            if word in word_count:\n",
    "                word_count[word] += 1\n",
    "            else:\n",
    "                word_count[word] = 1\n",
    "    \n",
    "    return word_count\n",
    "\n",
    "# Example usage:\n",
    "sentence = input(\"Enter a sentence: \")\n",
    "\n",
    "words_to_count = input(\"Enter words to count (separated by spaces): \").split()\n",
    "\n",
    "word_occurrences = count_word_occurrence(sentence, words_to_count)\n",
    "print(sentence)\n",
    "print(\"Occurrences of each word:\")\n",
    "for word, count in word_occurrences.items():\n",
    "    print(f\"{word}: {count}\")\n"
   ]
  },
  {
   "cell_type": "code",
   "execution_count": 5,
   "metadata": {},
   "outputs": [
    {
     "name": "stdout",
     "output_type": "stream",
     "text": [
      "Entered sentence:  rough book is used for rough work\n",
      "The word 'rough' occurs 2 times in the sentence.\n"
     ]
    }
   ],
   "source": [
    "def count_word_occurrence(sentence, word):\n",
    "    # Split the sentence into individual words\n",
    "    words = sentence.split()\n",
    "    # Initialize a counter\n",
    "    count = 0\n",
    "    # Iterate through each word\n",
    "    for w in words:\n",
    "        # Check if the word matches the user-entered word\n",
    "        if w == word:\n",
    "            # Increment the counter\n",
    "            count += 1\n",
    "    # Return the count of occurrences\n",
    "    return count\n",
    "\n",
    "# Example usage\n",
    "if __name__ == \"__main__\":\n",
    "    user_sentence = input(\"Enter a sentence: \")\n",
    "    print(\"Entered sentence: \", user_sentence)\n",
    "    user_word = input(\"Enter a word to count its occurrence: \")\n",
    "    occurrences = count_word_occurrence(user_sentence, user_word)\n",
    "    print(f\"The word '{user_word}' occurs {occurrences} times in the sentence.\")\n"
   ]
  }
 ],
 "metadata": {
  "kernelspec": {
   "display_name": "Python 3",
   "language": "python",
   "name": "python3"
  },
  "language_info": {
   "codemirror_mode": {
    "name": "ipython",
    "version": 3
   },
   "file_extension": ".py",
   "mimetype": "text/x-python",
   "name": "python",
   "nbconvert_exporter": "python",
   "pygments_lexer": "ipython3",
   "version": "3.12.1"
  }
 },
 "nbformat": 4,
 "nbformat_minor": 2
}
