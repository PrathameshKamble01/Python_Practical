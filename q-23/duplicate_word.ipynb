{
 "cells": [
  {
   "cell_type": "code",
   "execution_count": null,
   "metadata": {},
   "outputs": [],
   "source": [
    "def check_duplicate_word(user_input):\n",
    "    for i in user_input:\n",
    "        if char in user_input:\n",
    "            \n",
    "\n",
    "\n",
    "user_input = input(\"Enter a sentence: \")\n"
   ]
  },
  {
   "cell_type": "code",
   "execution_count": 2,
   "metadata": {},
   "outputs": [
    {
     "name": "stdout",
     "output_type": "stream",
     "text": [
      "User Input:  faculty id student id is importand\n",
      "Output:  faculty id importand is student\n"
     ]
    }
   ],
   "source": [
    "def remove_duplicates_and_sort(sentence):\n",
    "    # Split the sentence into words\n",
    "    words = sentence.split()\n",
    "    \n",
    "    # Remove duplicates by converting list to set\n",
    "    unique_words = set(words)\n",
    "    \n",
    "    # Sort the unique words\n",
    "    sorted_words = sorted(unique_words)\n",
    "    \n",
    "    # Join the sorted words into a string\n",
    "    sorted_sentence = ' '.join(sorted_words)\n",
    "    \n",
    "    # Print the sorted sentence\n",
    "    print(\"Output: \",sorted_sentence)\n",
    "\n",
    "# Example usage:\n",
    "input_sentence = input(\"Enter a sentence: \")\n",
    "print(\"User Input: \",input_sentence)\n",
    "remove_duplicates_and_sort(input_sentence)\n"
   ]
  }
 ],
 "metadata": {
  "kernelspec": {
   "display_name": "Python 3",
   "language": "python",
   "name": "python3"
  },
  "language_info": {
   "codemirror_mode": {
    "name": "ipython",
    "version": 3
   },
   "file_extension": ".py",
   "mimetype": "text/x-python",
   "name": "python",
   "nbconvert_exporter": "python",
   "pygments_lexer": "ipython3",
   "version": "3.12.1"
  }
 },
 "nbformat": 4,
 "nbformat_minor": 2
}
