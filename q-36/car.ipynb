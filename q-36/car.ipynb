{
 "cells": [
  {
   "cell_type": "markdown",
   "metadata": {},
   "source": [
    "Title:\n",
    "Vehicle and Car Classes with Inheritance and Electric Car Extension\n",
    "\n",
    "Prerequisites:\n",
    "Basic understanding of object-oriented programming concepts in Python.\n",
    "\n",
    "Objectives:\n",
    "1. Define a base class Vehicle with attributes and behaviors for starting and stopping.\n",
    "2. Implement a derived class Car inheriting from the Vehicle class with additional attributes and methods specific to cars.\n",
    "3. Extend the Car class with an ElectricCar class that adds attributes and behaviors specific to electric cars.\n",
    "\n",
    "Algorithm:\n",
    "1. Define the Vehicle class with attributes: color, capacity, engine power, and tires. Implement methods start() and stop() to control the vehicle's behavior.\n",
    "\n",
    "2. Create the Car class inheriting from Vehicle. Add attributes: airbags, gear, speed, and fuel. Implement methods: accelerate(), fill_fuel(), play_music(), and turn_on_AC().\n",
    "\n",
    "3. Define the ElectricCar class inheriting from Car. Add attribute: battery. Implement methods: charge(), check_battery_level().\n"
   ]
  },
  {
   "cell_type": "code",
   "execution_count": 1,
   "metadata": {},
   "outputs": [
    {
     "name": "stdout",
     "output_type": "stream",
     "text": [
      "Vehicle started.\n",
      "Car accelerated. Current speed: 10\n",
      "Music playing...\n",
      "AC turned on.\n",
      "Vehicle stopped.\n",
      "Vehicle started.\n",
      "Car accelerated. Current speed: 10\n",
      "Charging electric car...\n",
      "Battery level: 100\n",
      "Vehicle stopped.\n"
     ]
    }
   ],
   "source": [
    "class Vehicle:\n",
    "    def __init__(self, color, capacity, engine_power, tires):\n",
    "        self.color = color\n",
    "        self.capacity = capacity\n",
    "        self.engine_power = engine_power\n",
    "        self.tires = tires\n",
    "\n",
    "    def start(self):\n",
    "        print(\"Vehicle started.\")\n",
    "\n",
    "    def stop(self):\n",
    "        print(\"Vehicle stopped.\")\n",
    "\n",
    "class Car(Vehicle):\n",
    "    def __init__(self, color, capacity, engine_power, tires, airbags, gear, speed, fuel):\n",
    "        super().__init__(color, capacity, engine_power, tires)\n",
    "        self.airbags = airbags\n",
    "        self.gear = gear\n",
    "        self.speed = speed\n",
    "        self.fuel = fuel\n",
    "\n",
    "    def accelerate(self):\n",
    "        self.speed += 10\n",
    "        print(\"Car accelerated. Current speed:\", self.speed)\n",
    "\n",
    "    def fill_fuel(self, amount):\n",
    "        self.fuel += amount\n",
    "        print(\"Fuel filled. Current fuel level:\", self.fuel)\n",
    "\n",
    "    def play_music(self):\n",
    "        print(\"Music playing...\")\n",
    "\n",
    "    def turn_on_AC(self):\n",
    "        print(\"AC turned on.\")\n",
    "\n",
    "class ElectricCar(Car):\n",
    "    def __init__(self, color, capacity, engine_power, tires, airbags, gear, speed, battery):\n",
    "        super().__init__(color, capacity, engine_power, tires, airbags, gear, speed, fuel=0)\n",
    "        self.battery = battery\n",
    "\n",
    "    def charge(self):\n",
    "        print(\"Charging electric car...\")\n",
    "\n",
    "    def check_battery_level(self):\n",
    "        print(\"Battery level:\", self.battery)\n",
    "\n",
    "# Example usage:\n",
    "if __name__ == \"__main__\":\n",
    "    # Creating a regular car\n",
    "    regular_car = Car(\"Red\", 5, \"200hp\", 4, airbags=True, gear=\"Auto\", speed=0, fuel=20)\n",
    "    regular_car.start()\n",
    "    regular_car.accelerate()\n",
    "    regular_car.play_music()\n",
    "    regular_car.turn_on_AC()\n",
    "    regular_car.stop()\n",
    "\n",
    "    # Creating an electric car\n",
    "    electric_car = ElectricCar(\"Blue\", 4, \"150hp\", 4, airbags=True, gear=\"Manual\", speed=0, battery=100)\n",
    "    electric_car.start()\n",
    "    electric_car.accelerate()\n",
    "    electric_car.charge()\n",
    "    electric_car.check_battery_level()\n",
    "    electric_car.stop()"
   ]
  }
 ],
 "metadata": {
  "kernelspec": {
   "display_name": "Python 3",
   "language": "python",
   "name": "python3"
  },
  "language_info": {
   "codemirror_mode": {
    "name": "ipython",
    "version": 3
   },
   "file_extension": ".py",
   "mimetype": "text/x-python",
   "name": "python",
   "nbconvert_exporter": "python",
   "pygments_lexer": "ipython3",
   "version": "3.12.1"
  }
 },
 "nbformat": 4,
 "nbformat_minor": 2
}
