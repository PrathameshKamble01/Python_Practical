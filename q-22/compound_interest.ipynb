{
 "cells": [
  {
   "cell_type": "markdown",
   "metadata": {},
   "source": [
    "Title:\n",
    "Compound Interest Calculator\n",
    "\n",
    "Prerequisites:\n",
    "Basic understanding of compound interest formula.\n",
    "\n",
    "Objectives:\n",
    "To calculate compound interest using keyword arguments in a Python program.\n",
    "\n",
    "Algorithm:\n",
    "\n",
    "1. Define a function calculate_compound_interest that takes principal amount, rate of interest, number of periods, and frequency of compounding as keyword arguments.\n",
    "2. Calculate compound interest using the formula:\n",
    "    A = P(1 + r/n)^(nt)\n",
    "    where,\n",
    "    A = amount\n",
    "    P = principal amount\n",
    "    r = rate of interest (in decimal)\n",
    "    n = number of times interest is compounded per time period\n",
    "    t = time period\n",
    "3. Return the calculated compound interest."
   ]
  },
  {
   "cell_type": "code",
   "execution_count": 1,
   "metadata": {},
   "outputs": [
    {
     "name": "stdout",
     "output_type": "stream",
     "text": [
      "Compound Interest: 280.08454419635655\n"
     ]
    }
   ],
   "source": [
    "def calculate_compound_interest(principal, rate, time, freq):\n",
    "    amount = principal * (1 + rate / freq) ** (freq * time)\n",
    "    compound_interest = amount - principal\n",
    "    return compound_interest\n",
    "\n",
    "principal_amount = 1000\n",
    "interest_rate = 0.05\n",
    "time_period = 5\n",
    "frequency = 2\n",
    "\n",
    "compound_interest = calculate_compound_interest(principal=principal_amount, \n",
    "                                                rate=interest_rate, \n",
    "                                                time=time_period, \n",
    "                                                freq=frequency)\n",
    "print(\"Compound Interest:\", compound_interest)\n"
   ]
  }
 ],
 "metadata": {
  "kernelspec": {
   "display_name": "Python 3",
   "language": "python",
   "name": "python3"
  },
  "language_info": {
   "codemirror_mode": {
    "name": "ipython",
    "version": 3
   },
   "file_extension": ".py",
   "mimetype": "text/x-python",
   "name": "python",
   "nbconvert_exporter": "python",
   "pygments_lexer": "ipython3",
   "version": "3.12.1"
  }
 },
 "nbformat": 4,
 "nbformat_minor": 2
}
