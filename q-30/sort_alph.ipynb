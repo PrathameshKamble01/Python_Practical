{
 "cells": [
  {
   "cell_type": "markdown",
   "metadata": {},
   "source": [
    "Title:\n",
    "Sorting Names Alphabetically without sort() Function\n",
    "\n",
    "Prerequisites:\n",
    "Basic knowledge of Python programming including loops and string manipulation.\n",
    "\n",
    "Objectives:\n",
    "Sort a sequence of names alphabetically without using the sort() function.\n",
    "\n",
    "Algorithm:\n",
    "1. Initialize an empty list to store the sorted names.\n",
    "2. Iterate through each name in the input sequence.\n",
    "3. For each name, compare it with the names already in the sorted list and insert it at the correct position to maintain alphabetical order.\n",
    "4. Print the sorted list of names.\n",
    "\n"
   ]
  },
  {
   "cell_type": "code",
   "execution_count": 1,
   "metadata": {},
   "outputs": [
    {
     "name": "stdout",
     "output_type": "stream",
     "text": [
      "Sorted Names: ['Alice', 'Bob', 'Charlie', 'John']\n"
     ]
    }
   ],
   "source": [
    "def sort_names(names):\n",
    "    sorted_names = []\n",
    "    for name in names:\n",
    "        inserted = False\n",
    "        for i in range(len(sorted_names)):\n",
    "            if name < sorted_names[i]:\n",
    "                sorted_names.insert(i, name)\n",
    "                inserted = True\n",
    "                break\n",
    "        if not inserted:\n",
    "            sorted_names.append(name)\n",
    "    return sorted_names\n",
    "\n",
    "# Example usage:\n",
    "names = [\"John\", \"Alice\", \"Bob\", \"Charlie\"]\n",
    "sorted_names = sort_names(names)\n",
    "print(\"Sorted Names:\", sorted_names)"
   ]
  }
 ],
 "metadata": {
  "kernelspec": {
   "display_name": "Python 3",
   "language": "python",
   "name": "python3"
  },
  "language_info": {
   "codemirror_mode": {
    "name": "ipython",
    "version": 3
   },
   "file_extension": ".py",
   "mimetype": "text/x-python",
   "name": "python",
   "nbconvert_exporter": "python",
   "pygments_lexer": "ipython3",
   "version": "3.12.1"
  }
 },
 "nbformat": 4,
 "nbformat_minor": 2
}
