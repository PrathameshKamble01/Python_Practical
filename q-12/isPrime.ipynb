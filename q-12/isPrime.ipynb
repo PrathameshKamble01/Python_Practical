{
 "cells": [
  {
   "cell_type": "code",
   "execution_count": null,
   "metadata": {},
   "outputs": [],
   "source": [
    "def is_prime(num, prime_cache):\n",
    "    if num in prime_cache:\n",
    "        return prime_cache[num]\n",
    "    if num <= 1:\n",
    "        prime_cache[num] = False\n",
    "    elif num <= 3:\n",
    "        prime_cache[num] = True\n",
    "    elif num % 2 == 0 or num % 3 == 0:\n",
    "        prime_cache[num] = False\n",
    "    else:\n",
    "        i = 5\n",
    "        while i * i <= num:\n",
    "            if num % i == 0 or num % (i + 2) == 0:\n",
    "                prime_cache[num] = False\n",
    "                break\n",
    "            i += 6\n",
    "        else:\n",
    "            prime_cache[num] = True\n",
    "        return prime_cache[num]\n",
    "\n",
    "\n",
    "\n",
    "def print_n_primes(n):\n",
    "    count = 0\n",
    "    num = 2\n",
    "    prime_cache = {}\n",
    "    while count < n:\n",
    "        if is_prime(num, prime_cache):\n",
    "            print(num)\n",
    "            count += 1\n",
    "        num += 1           \n",
    "\n",
    "n = int ( input(\"enter a number to start: \") )\n",
    "print (f\"First\", n , \"prime numbers: \")\n",
    "print_n_primes(n)\n"
   ]
  },
  {
   "cell_type": "code",
   "execution_count": null,
   "metadata": {},
   "outputs": [],
   "source": [
    "def is_prime(num):\n",
    "    if num % 2 == 0 :\n",
    "        print (\"Not Prime\")\n",
    "        break\n",
    "    \n",
    "\n",
    "def print_n_prime(n):\n",
    "    num = 2\n",
    "    count = 0\n",
    "    while count < n:\n",
    "        if is_prime(num):\n",
    "            print(num)\n",
    "            count += 1\n",
    "        num += 1  \n",
    "\n",
    "n = int ( input(\"enter a number: \") )\n",
    "print_n_prime(n)"
   ]
  },
  {
   "cell_type": "code",
   "execution_count": 2,
   "metadata": {},
   "outputs": [
    {
     "name": "stdout",
     "output_type": "stream",
     "text": [
      "First 10 prime numbers:\n",
      "2 3 5 7 11 13 17 19 23 29 "
     ]
    }
   ],
   "source": [
    "def is_prime(num):\n",
    "    if num <= 1:\n",
    "        return False\n",
    "    if num <= 3:\n",
    "        return True\n",
    "    if num % 2 == 0 or num % 3 == 0:\n",
    "        return False\n",
    "    i = 5\n",
    "    while i * i <= num:\n",
    "        if num % i == 0 or num % (i + 2) == 0:\n",
    "            return False\n",
    "        i += 6\n",
    "    return True\n",
    "\n",
    "def print_n_primes(n):\n",
    "    count = 0\n",
    "    num = 2\n",
    "    while count < n:\n",
    "        if is_prime(num):\n",
    "            print(num, end=\" \")\n",
    "            count += 1\n",
    "        num += 1\n",
    "\n",
    "n = int( input(\"Enter a limit till you want to print prime numbers: \") )\n",
    "print(\"First\", n, \"prime numbers:\")\n",
    "print_n_primes(n)"
   ]
  }
 ],
 "metadata": {
  "kernelspec": {
   "display_name": "Python 3",
   "language": "python",
   "name": "python3"
  },
  "language_info": {
   "codemirror_mode": {
    "name": "ipython",
    "version": 3
   },
   "file_extension": ".py",
   "mimetype": "text/x-python",
   "name": "python",
   "nbconvert_exporter": "python",
   "pygments_lexer": "ipython3",
   "version": "3.12.1"
  }
 },
 "nbformat": 4,
 "nbformat_minor": 2
}
