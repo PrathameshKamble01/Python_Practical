{
 "cells": [
  {
   "cell_type": "markdown",
   "metadata": {},
   "source": [
    "Q-20\n",
    "\n",
    "Title:\n",
    "Check List Sorting Order\n",
    "\n",
    "Prerequisites:\n",
    "Basic knowledge of Python programming, understanding of lists and sorting.\n",
    "\n",
    "Objectives:\n",
    "To determine whether the items in a list are sorted in ascending or descending order and print suitable messages accordingly.\n",
    "\n",
    "Algorithm:\n",
    "\n",
    "1. Define a function named check_sort_order that takes a list as input.\n",
    "2. Check if the list is sorted in ascending order by comparing each element with the next one.\n",
    "3. If all elements are in ascending order, print \"List is sorted in ascending order\".\n",
    "4. Check if the list is sorted in descending order by comparing each element with the next one.\n",
    "5. If all elements are in descending order, print \"List is sorted in descending order\".\n",
    "6. If the list is not sorted in either ascending or descending order, print \"Items in list are not sorted\"."
   ]
  },
  {
   "cell_type": "code",
   "execution_count": null,
   "metadata": {},
   "outputs": [],
   "source": [
    "def check_sort_order(lst):\n",
    "    # Check if list is sorted in ascending order\n",
    "    if all(lst[i] <= lst[i+1] for i in range(len(lst)-1)):\n",
    "        print(\"List is sorted in ascending order\", lst)\n",
    "    # Check if list is sorted in descending order\n",
    "    elif all(lst[i] >= lst[i+1] for i in range(len(lst)-1)):\n",
    "        print(\"List is sorted in descending order\", lst)\n",
    "    else:\n",
    "        print(\"Items in list are not sorted\", lst)\n",
    "\n",
    "# Example usage\n",
    "my_list = [1, 2, 3, 4, 5]\n",
    "check_sort_order(my_list)\n",
    "\n",
    "my_list = [5, 4, 3, 2, 1]\n",
    "check_sort_order(my_list)\n",
    "\n",
    "my_list = [1, 3, 2, 4, 5]\n",
    "check_sort_order(my_list)\n"
   ]
  },
  {
   "cell_type": "code",
   "execution_count": 7,
   "metadata": {},
   "outputs": [
    {
     "name": "stdout",
     "output_type": "stream",
     "text": [
      "[9, 8, 7, 6, 5, 4, 3, 2, 1] Items in list are sorted in descending order\n"
     ]
    }
   ],
   "source": [
    "def check_list_order(lst):\n",
    "    ascending = True\n",
    "    descending = True\n",
    "    \n",
    "    # Check for ascending order\n",
    "    for i in range(len(lst) - 1):\n",
    "        if lst[i] > lst[i + 1]:\n",
    "            ascending = False\n",
    "            break\n",
    "    \n",
    "    # Check for descending order\n",
    "    for i in range(len(lst) - 1):\n",
    "        if lst[i] < lst[i + 1]:\n",
    "            descending = False\n",
    "            break\n",
    "    \n",
    "    # Print suitable messages\n",
    "    if ascending:\n",
    "        print(lst, end=\" \")\n",
    "        print(\"Items in list are sorted in ascending order\")\n",
    "    elif descending:\n",
    "        print(lst, end=\" \")\n",
    "        print(\"Items in list are sorted in descending order\")\n",
    "    else:\n",
    "        print(lst, end=\" \")\n",
    "        print(\"Items in list are not sorted\")\n",
    "\n",
    "# Example usage\n",
    "if __name__ == \"__main__\":\n",
    "    user_list = input(\"Enter a list of numbers separated by spaces: \").split()\n",
    "    user_list = [int(x) for x in user_list]  # Convert input strings to integers\n",
    "    check_list_order(user_list)\n"
   ]
  }
 ],
 "metadata": {
  "kernelspec": {
   "display_name": "Python 3",
   "language": "python",
   "name": "python3"
  },
  "language_info": {
   "codemirror_mode": {
    "name": "ipython",
    "version": 3
   },
   "file_extension": ".py",
   "mimetype": "text/x-python",
   "name": "python",
   "nbconvert_exporter": "python",
   "pygments_lexer": "ipython3",
   "version": "3.12.1"
  }
 },
 "nbformat": 4,
 "nbformat_minor": 2
}
