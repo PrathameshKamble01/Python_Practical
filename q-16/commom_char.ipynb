{
 "cells": [
  {
   "cell_type": "markdown",
   "metadata": {},
   "source": [
    "Q-16\n",
    "\n",
    "Title:\n",
    "Print Common Characters in Two Strings\n",
    "\n",
    "Prerequisites:\n",
    "Basic understanding of strings and loops in the chosen programming language.\n",
    "\n",
    "Objectives:\n",
    "\n",
    "1. Compare two strings character by character.\n",
    "2. Identify and print the common characters found in both strings.\n",
    "\n",
    "Algorithm:\n",
    "\n",
    "1. Define a function that takes two string inputs.\n",
    "2. Initialize an empty set or list to store common characters.\n",
    "3. Iterate through each character in the first string.\n",
    "4. Check if the character exists in the second string and has not been added to the common characters list.\n",
    "5. If the character is found in both strings and not already in the common characters list, add it to the list.\n",
    "6. Finally, print the common characters found."
   ]
  },
  {
   "cell_type": "code",
   "execution_count": 4,
   "metadata": {},
   "outputs": [
    {
     "name": "stdout",
     "output_type": "stream",
     "text": [
      "Common characters in both strings:\n",
      "l o "
     ]
    }
   ],
   "source": [
    "def print_common_characters(str1, str2):\n",
    "    common_characters = set()\n",
    "\n",
    "    for char in str1:\n",
    "        if char in str2 and char not in common_characters:\n",
    "            common_characters.add(char)\n",
    "\n",
    "    print(\"Common characters in both strings:\")\n",
    "    for char in common_characters:\n",
    "        print(char, end=\" \")\n",
    "\n",
    "string1 = \"hello\"\n",
    "string2 = \"world\"\n",
    "print_common_characters(string1, string2)\n"
   ]
  }
 ],
 "metadata": {
  "kernelspec": {
   "display_name": "Python 3",
   "language": "python",
   "name": "python3"
  },
  "language_info": {
   "codemirror_mode": {
    "name": "ipython",
    "version": 3
   },
   "file_extension": ".py",
   "mimetype": "text/x-python",
   "name": "python",
   "nbconvert_exporter": "python",
   "pygments_lexer": "ipython3",
   "version": "3.12.1"
  }
 },
 "nbformat": 4,
 "nbformat_minor": 2
}
