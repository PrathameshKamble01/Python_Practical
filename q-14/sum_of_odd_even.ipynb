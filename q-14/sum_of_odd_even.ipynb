{
 "cells": [
  {
   "cell_type": "markdown",
   "metadata": {},
   "source": [
    "Q-14\n",
    "\n",
    "Title:\n",
    "Sum of Odd and Even Numbers\n",
    "\n",
    "Prerequisites:\n",
    "Basic understanding of Python functions, loops, and conditionals.\n",
    "\n",
    "Objectives:\n",
    "\n",
    "1. Prompt the user to input a number.\n",
    "2. Calculate the sum of all odd and even numbers up to the specified number.\n",
    "3. Utilize functions to separate odd and even numbers.\n",
    "4. Display the sum of odd and even numbers separately.\n",
    "\n",
    "Algorithm:\n",
    "\n",
    "1. Define a function to calculate the sum of odd numbers.\n",
    "2. Define a function to calculate the sum of even numbers.\n",
    "3. In each function, iterate through numbers up to the user-specified number and add the respective numbers based on their parity.\n",
    "5. Return the sums.\n",
    "6. Prompt the user to input a number.\n",
    "7. Call the functions with the input number as an argument.\n",
    "8. Display the sums of odd and even numbers."
   ]
  },
  {
   "cell_type": "code",
   "execution_count": 1,
   "metadata": {},
   "outputs": [
    {
     "name": "stdout",
     "output_type": "stream",
     "text": [
      "Sum of odd numbers up to 20 is: 100\n",
      "Sum of even numbers up to 20 is: 110\n"
     ]
    }
   ],
   "source": [
    "def sum_of_odd_numbers(n):\n",
    "    odd_sum = 0\n",
    "    for i in range(1, n+1):\n",
    "        if i % 2 != 0:\n",
    "            odd_sum += i\n",
    "    return odd_sum\n",
    "\n",
    "def sum_of_even_numbers(n):\n",
    "    even_sum = 0\n",
    "    for i in range(1, n+1):\n",
    "        if i % 2 == 0:\n",
    "            even_sum += i\n",
    "    return even_sum\n",
    "\n",
    "def main():\n",
    "    num = int(input(\"Enter a number: \"))\n",
    "    odd_sum = sum_of_odd_numbers(num)\n",
    "    even_sum = sum_of_even_numbers(num)\n",
    "    print(\"Sum of odd numbers up to\", num, \"is:\", odd_sum)\n",
    "    print(\"Sum of even numbers up to\", num, \"is:\", even_sum)\n",
    "\n",
    "if __name__ == \"__main__\":\n",
    "    main()\n"
   ]
  }
 ],
 "metadata": {
  "kernelspec": {
   "display_name": "Python 3",
   "language": "python",
   "name": "python3"
  },
  "language_info": {
   "codemirror_mode": {
    "name": "ipython",
    "version": 3
   },
   "file_extension": ".py",
   "mimetype": "text/x-python",
   "name": "python",
   "nbconvert_exporter": "python",
   "pygments_lexer": "ipython3",
   "version": "3.12.1"
  }
 },
 "nbformat": 4,
 "nbformat_minor": 2
}
