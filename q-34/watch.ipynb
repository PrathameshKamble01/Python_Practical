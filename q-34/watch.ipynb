{
 "cells": [
  {
   "cell_type": "markdown",
   "metadata": {},
   "source": [
    "Title: Watch Program\n",
    "\n",
    "Prerequisites: Basic understanding of Python classes and methods.\n",
    "\n",
    "Objectives: Create a class representing a watch with attributes for hour, minute, second, alarm, and type. Implement methods to set the alarm, stop the alarm, and display the current time.\n",
    "\n",
    "Algorithm:\n",
    "\n",
    "1. Define a class named \"Watch\" with attributes hr, min, sec, alarm, and type.\n",
    "2. Implement the setalarm() method to set the alarm time.\n",
    "3. Implement the stopalarm() method to stop the alarm.\n",
    "4. Implement the showtime() method to display the current time.\n"
   ]
  },
  {
   "cell_type": "code",
   "execution_count": 1,
   "metadata": {},
   "outputs": [
    {
     "name": "stdout",
     "output_type": "stream",
     "text": [
      "Current Time: 16:41:28\n",
      "Current Time: 16:41:28\n",
      "Alarm Time: 7:30\n",
      "Current Time: 16:41:28\n"
     ]
    }
   ],
   "source": [
    "import time\n",
    "\n",
    "class Watch:\n",
    "    def __init__(self, hr, min, sec, alarm, type):\n",
    "        self.hr = hr\n",
    "        self.min = min\n",
    "        self.sec = sec\n",
    "        self.alarm = alarm\n",
    "        self.type = type\n",
    "\n",
    "    def setalarm(self, hr, min):\n",
    "        self.alarm = (hr, min)\n",
    "\n",
    "    def stopalarm(self):\n",
    "        self.alarm = None\n",
    "\n",
    "    def showtime(self):\n",
    "        current_time = time.localtime()\n",
    "        hr = current_time.tm_hour\n",
    "        min = current_time.tm_min\n",
    "        sec = current_time.tm_sec\n",
    "        print(f\"Current Time: {hr}:{min}:{sec}\")\n",
    "\n",
    "        if self.alarm:\n",
    "            print(f\"Alarm Time: {self.alarm[0]}:{self.alarm[1]}\")\n",
    "\n",
    "# Example Usage\n",
    "my_watch = Watch(12, 0, 0, None, \"Analog\")\n",
    "my_watch.showtime()  # Display current time\n",
    "my_watch.setalarm(7, 30)  # Set alarm for 7:30\n",
    "my_watch.showtime()  # Display current time with alarm set\n",
    "my_watch.stopalarm()  # Stop the alarm\n",
    "my_watch.showtime()  # Display current time after stopping alarm\n"
   ]
  }
 ],
 "metadata": {
  "kernelspec": {
   "display_name": "Python 3",
   "language": "python",
   "name": "python3"
  },
  "language_info": {
   "codemirror_mode": {
    "name": "ipython",
    "version": 3
   },
   "file_extension": ".py",
   "mimetype": "text/x-python",
   "name": "python",
   "nbconvert_exporter": "python",
   "pygments_lexer": "ipython3",
   "version": "3.12.1"
  }
 },
 "nbformat": 4,
 "nbformat_minor": 2
}
