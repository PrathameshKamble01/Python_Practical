{
 "cells": [
  {
   "cell_type": "markdown",
   "metadata": {},
   "source": [
    "Q-18\n",
    "\n",
    "Title: \n",
    "Comma-Separated Words to Hyphen-Separated Words Converter\n",
    "\n",
    "Prerequisites: \n",
    "Basic knowledge of Python programming\n",
    "\n",
    "Objectives: \n",
    "Convert comma-separated words to hyphen-separated words and print them in ascending order.\n",
    "\n",
    "Algorithm:\n",
    "\n",
    "1. Input a string containing comma-separated words.\n",
    "2. Split the string using the split() function to create a list of words.\n",
    "3. Join the words using the join() function, replacing commas with hyphens.\n",
    "4. Sort the hyphen-separated words in ascending order using the sorted() function.\n",
    "5. Print the sorted hyphen-separated words."
   ]
  },
  {
   "cell_type": "code",
   "execution_count": null,
   "metadata": {},
   "outputs": [],
   "source": [
    "def convert_to_hyphen_separated(words):\n",
    "    # Split the string into a list of words using commas as the delimiter\n",
    "    word_list = words.split(',')\n",
    "    \n",
    "    # Join the words using hyphens as the separator\n",
    "    hyphen_separated = '-'.join(word_list)\n",
    "    \n",
    "    # Sort the hyphen-separated words in ascending order\n",
    "    sorted_words = sorted(hyphen_separated.split('-'))\n",
    "    \n",
    "    return sorted_words\n",
    "\n",
    "# Input comma-separated words from the user\n",
    "comma_separated_words = input(\"Enter comma-separated words: \")\n",
    "\n",
    "# Convert and print hyphen-separated words in ascending order\n",
    "hyphen_separated_words = convert_to_hyphen_separated(comma_separated_words)\n",
    "print(\"Hyphen-separated words in ascending order:\", *hyphen_separated_words)\n"
   ]
  },
  {
   "cell_type": "code",
   "execution_count": 1,
   "metadata": {},
   "outputs": [
    {
     "name": "stdout",
     "output_type": "stream",
     "text": [
      "Entered String:  apple, banana, cake, dog, cat, elephant\n",
      "Hyphen-separated words in ascending order:\n",
      " banana\n",
      " cake\n",
      " cat\n",
      " dog\n",
      " elephant\n",
      "apple\n"
     ]
    }
   ],
   "source": [
    "def replace_comma_with_hyphen(word):\n",
    "    return word.replace(',', '-')\n",
    "\n",
    "def main():\n",
    "    # Take input from the user\n",
    "    input_string = input(\"Enter comma-separated words: \")\n",
    "    print(\"Entered String: \", input_string)\n",
    "    # Split the input string by commas to get a list of words\n",
    "    words_list = input_string.split(',')\n",
    "    \n",
    "    # Replace commas with hyphens in each word\n",
    "    hyphen_separated_words = [replace_comma_with_hyphen(word) for word in words_list]\n",
    "    \n",
    "    # Sort the list of hyphen-separated words in ascending order\n",
    "    hyphen_separated_words.sort()\n",
    "    \n",
    "    # Print the sorted hyphen-separated words\n",
    "    print(\"Hyphen-separated words in ascending order:\")\n",
    "    for word in hyphen_separated_words:\n",
    "        print(word)\n",
    "\n",
    "if __name__ == \"__main__\":\n",
    "    main()\n"
   ]
  }
 ],
 "metadata": {
  "kernelspec": {
   "display_name": "Python 3",
   "language": "python",
   "name": "python3"
  },
  "language_info": {
   "codemirror_mode": {
    "name": "ipython",
    "version": 3
   },
   "file_extension": ".py",
   "mimetype": "text/x-python",
   "name": "python",
   "nbconvert_exporter": "python",
   "pygments_lexer": "ipython3",
   "version": "3.12.1"
  }
 },
 "nbformat": 4,
 "nbformat_minor": 2
}
