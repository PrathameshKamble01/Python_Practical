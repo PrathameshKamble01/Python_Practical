{
 "cells": [
  {
   "cell_type": "markdown",
   "metadata": {},
   "source": [
    "Title:\n",
    "Adding Two Lists Using Map Function\n",
    "\n",
    "Prerequisites:\n",
    "Basic understanding of Python syntax and the map function.\n",
    "\n",
    "Objectives:\n",
    "- Combine elements from two lists pairwise.\n",
    "- Utilize the map function to perform addition operation element-wise.\n",
    "\n",
    "Algorithm:\n",
    "1. Define two lists, list1 and list2.\n",
    "2. Define a function to add two numbers.\n",
    "3. Use the map function to apply the addition function to corresponding elements of list1 and list2.\n",
    "4. Convert the map object to a list to obtain the result.\n",
    "\n"
   ]
  },
  {
   "cell_type": "code",
   "execution_count": 1,
   "metadata": {},
   "outputs": [
    {
     "name": "stdout",
     "output_type": "stream",
     "text": [
      "Resultant list after addition: [6, 8, 10, 12]\n"
     ]
    }
   ],
   "source": [
    "list1 = [1, 2, 3, 4]\n",
    "list2 = [5, 6, 7, 8]\n",
    "\n",
    "# Define function to add two numbers\n",
    "def add(x, y):\n",
    "    return x + y\n",
    "\n",
    "# Use map function to add corresponding elements\n",
    "result = list(map(add, list1, list2))\n",
    "\n",
    "# Print the result\n",
    "print(\"Resultant list after addition:\", result)"
   ]
  }
 ],
 "metadata": {
  "kernelspec": {
   "display_name": "Python 3",
   "language": "python",
   "name": "python3"
  },
  "language_info": {
   "codemirror_mode": {
    "name": "ipython",
    "version": 3
   },
   "file_extension": ".py",
   "mimetype": "text/x-python",
   "name": "python",
   "nbconvert_exporter": "python",
   "pygments_lexer": "ipython3",
   "version": "3.12.1"
  }
 },
 "nbformat": 4,
 "nbformat_minor": 2
}
